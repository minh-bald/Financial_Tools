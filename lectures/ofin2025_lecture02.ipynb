{
 "cells": [
  {
   "cell_type": "markdown",
   "id": "fbe13113545c5801",
   "metadata": {},
   "source": [
    "<center>\n",
    "<img src=\"../images/fscampus_small2.png\" width=\"1200\"/>\n",
    "</center>\n",
    "\n",
    "\n",
    "***Finance I (OFIN)-SS2025***\n",
    "\n",
    "**Dr. Omer Cayirli**\n",
    "\n",
    "Lecturer in Empirical Finance\n",
    "\n",
    "omer.cayirli@vgu.edu.vn\n",
    "\n",
    "---"
   ]
  },
  {
   "cell_type": "markdown",
   "id": "0480c86b",
   "metadata": {},
   "source": [
    "## Lecture 02\n",
    "---"
   ]
  },
  {
   "cell_type": "markdown",
   "id": "02dcf0de",
   "metadata": {},
   "source": [
    "### Outline\n",
    "* Time, Money, and Interest Rates\n",
    "  * The Time Value of Money\n",
    "  * Interest Rates\n",
    "---"
   ]
  },
  {
   "cell_type": "markdown",
   "id": "021671c4",
   "metadata": {},
   "source": [
    "### The timeline\n",
    "* Suppose you must pay tuition of $10,000 per year for the next two years.\n",
    "* Your tuition payments must be made in equal installments at the start of each semester. \n",
    "* What is the timeline of your tuition payments?\n",
    "\n",
    "**The Three Rules of Time Travel**\n",
    "* It is only possible to compare or combine values at the same point in time.\n",
    "* To move a cash flow forward in time, you must compound it.\n",
    "* To move a cash flow back in time, we must discount it.\n",
    "\n",
    "<center>\n",
    "<img src=\"../figures/timetravel_01.png\" width=\"720\"/>\n",
    "</center>\n",
    "\n",
    "---"
   ]
  },
  {
   "cell_type": "markdown",
   "id": "3cf868c1",
   "metadata": {},
   "source": [
    "### The timeline\n",
    "<center>\n",
    "<img src=\"../figures/timeline_01.png\" width=\"640\"/>\n",
    "</center>\n",
    "<center>\n",
    "<img src=\"../figures/timeline_02.png\" width=\"640\"/>\n",
    "</center>\n",
    "\n",
    "---"
   ]
  },
  {
   "cell_type": "markdown",
   "id": "00844cf4",
   "metadata": {},
   "source": [
    "### The Time Value of Money\n",
    "* Suppose you plan to save $\\$1000$ today, and $\\$1000$ at the end of each of the next two years. \n",
    "* If you earn a fixed 10% interest rate on our savings, howcmuch will you have three years from today?\n",
    "<center>\n",
    "<img src=\"../figures/timetravel_02.png\" width=\"720\"/>\n",
    "</center>\n",
    "<center>\n",
    "<img src=\"../figures/timetravel_03.png\" width=\"720\"/>\n",
    "</center>\n",
    "\n",
    "---"
   ]
  },
  {
   "cell_type": "markdown",
   "id": "53ba084c",
   "metadata": {},
   "source": [
    "### The Time Value of Money\n",
    "\n",
    "* $1,000 is deposited into a deposit account that pays 12% annual interest.\n",
    "\n",
    "  * Value after 1 year? Value after 2 years? Value after 3 years?\n",
    "\n",
    "    $$FV_1 = 1,000.00 \\times (1 + 0.12) = 1,000.00 \\times 1.12 = \\$1,120.00$$\n",
    "\n",
    "    $$FV_2 = 1,120.00 \\times (1 + 0.12) = 1,120.00 \\times 1.12 = \\$1,254.40$$\n",
    "\n",
    "    $$FV_3 = 1,254.40 \\times (1 + 0.12) = 1,254.40 \\times 1.12 = \\$1,404.93$$\n",
    "\n",
    "|          | Year 1   | Year 2   | Year 3   | Total    |\n",
    "|----------|----------:|----------:|----------:|----------:|\n",
    "| Principal| \\$1,000.00| \\$1,000.00| \\$1,000.00|          |\n",
    "| Interest | \\$120.00  | \\$120.00  | \\$120.00  | \\$360.00  |\n",
    "| Compound | \\$120.00  | \\$14.40   | \\$14.40   | \\$28.80   |\n",
    "| Extra    |          | \\$14.40   | \\$1.73    | \\$1.73    |\n",
    "| **Total**|          |          |          | **\\$404.93** |\n",
    "\n",
    "* **Total Interest (Compounded):** $\\qquad \\boxed{\\$404.93}$\n",
    "* **Simple Interest:** $\\qquad \\qquad  \\qquad \\qquad 1,000.00 \\times (0.12 \\times 3) = \\boxed{\\$360.00}$\n",
    "* **Power of Compounding:** $\\qquad \\qquad \\boxed{\\$44.93}$\n",
    "---"
   ]
  },
  {
   "cell_type": "code",
   "execution_count": 1,
   "id": "27ffd649",
   "metadata": {
    "jupyter": {
     "source_hidden": true
    }
   },
   "outputs": [
    {
     "data": {
      "application/vnd.jupyter.widget-view+json": {
       "model_id": "7a7e92f0fb3648a180dbbc49cf247ceb",
       "version_major": 2,
       "version_minor": 0
      },
      "text/plain": [
       "VBox(children=(FloatText(value=1000.0, description='PV ($):', step=100.0), IntText(value=25, description='t (y…"
      ]
     },
     "metadata": {},
     "output_type": "display_data"
    },
    {
     "data": {
      "application/vnd.jupyter.widget-view+json": {
       "model_id": "2eaa79996472498da56c3f6aedfa3ce6",
       "version_major": 2,
       "version_minor": 0
      },
      "text/plain": [
       "Output()"
      ]
     },
     "metadata": {},
     "output_type": "display_data"
    }
   ],
   "source": [
    "import numpy as np\n",
    "import pandas as pd\n",
    "import matplotlib.pyplot as plt\n",
    "import base64\n",
    "import io\n",
    "from IPython.display import display, HTML, clear_output\n",
    "import ipywidgets as widgets\n",
    "from IPython.display import Javascript\n",
    "\n",
    "# Define the function to calculate simple interest FV\n",
    "def simple_interest_fv(PV, r, t):\n",
    "    return PV * (1 + r * t)\n",
    "\n",
    "# Define the function to calculate compound interest FV\n",
    "def compound_interest_fv(PV, r, t, m):\n",
    "    return PV * (1 + r / m) ** (m * t)\n",
    "\n",
    "# Function to generate and display the output\n",
    "def generate_output(PV, t, r, m1, m2, output_widget):\n",
    "    with output_widget:\n",
    "        try:\n",
    "            # Clear the output area for the plots and tables\n",
    "            clear_output(wait=True)\n",
    "\n",
    "            # Time periods for plotting\n",
    "            time_periods = np.arange(1, t + 1)\n",
    "\n",
    "            # Calculate FV for investment (constant)\n",
    "            investment = np.full_like(time_periods, PV, dtype=float)\n",
    "\n",
    "            # Calculate FV for simple and compound interest\n",
    "            simple_fv = simple_interest_fv(PV, r, time_periods)\n",
    "            compound_fv_m1 = compound_interest_fv(PV, r, time_periods, m1)\n",
    "            compound_fv_m2 = compound_interest_fv(PV, r, time_periods, m2)\n",
    "\n",
    "            # Final FV values for the tables (at t)\n",
    "            final_compound_fv_m1 = compound_interest_fv(PV, r, t, m1)\n",
    "            final_compound_fv_m2 = compound_interest_fv(PV, r, t, m2)\n",
    "\n",
    "            # Create a single figure with two subplots side by side\n",
    "            fig, (ax1, ax2) = plt.subplots(1, 2, figsize=(12, 5), sharey=True)\n",
    "\n",
    "            # Plot 1: m=m1\n",
    "            ax1.fill_between(time_periods, investment, simple_fv, color='yellow', label='Simple', alpha=0.7)\n",
    "            ax1.fill_between(time_periods, simple_fv, compound_fv_m1, color='gray', label='Compound', alpha=0.7)\n",
    "            ax1.fill_between(time_periods, 0, investment, color='blue', label='Investment', alpha=0.7)\n",
    "            ax1.set_title(f\"(t={t}, m={m1}, r={int(r*100)}%)\")\n",
    "            ax1.set_xlabel(\"t\")\n",
    "            ax1.set_ylabel(\"FV ($)\")\n",
    "            ax1.legend(loc=\"upper left\")\n",
    "            ax1.grid(True)\n",
    "\n",
    "            # Plot 2: m=m2\n",
    "            ax2.fill_between(time_periods, investment, simple_fv, color='yellow', label='Simple', alpha=0.7)\n",
    "            ax2.fill_between(time_periods, simple_fv, compound_fv_m2, color='gray', label='Compound', alpha=0.7)\n",
    "            ax2.fill_between(time_periods, 0, investment, color='blue', label='Investment', alpha=0.7)\n",
    "            ax2.set_title(f\"(t={t}, m={m2}, r={int(r*100)}%)\")\n",
    "            ax2.set_xlabel(\"t\")\n",
    "            ax2.legend(loc=\"upper left\")\n",
    "            ax2.grid(True)\n",
    "\n",
    "            # Adjust layout to prevent overlap\n",
    "            plt.tight_layout()\n",
    "\n",
    "            # Save the figure to a buffer and close it\n",
    "            buf = io.BytesIO()\n",
    "            plt.savefig(buf, format='png', bbox_inches='tight')\n",
    "            buf.seek(0)\n",
    "            image_base64 = base64.b64encode(buf.getvalue()).decode('utf-8')\n",
    "            plt.close(fig)\n",
    "            buf.close()\n",
    "\n",
    "            # Create image HTML\n",
    "            image_html = f'<img src=\"data:image/png;base64,{image_base64}\" style=\"width: 90%;\"/>'\n",
    "\n",
    "            # Create summary tables\n",
    "            table_data_m1 = {\n",
    "                \"PV\": [f\"{PV:.2f}\"],\n",
    "                \"t\": [t],\n",
    "                \"m\": [m1],\n",
    "                \"r\": [f\"{int(r*100)}%\"],\n",
    "                \"FV\": [f\"{final_compound_fv_m1:.2f}\"]\n",
    "            }\n",
    "            table_data_m2 = {\n",
    "                \"PV\": [f\"{PV:.2f}\"],\n",
    "                \"t\": [t],\n",
    "                \"m\": [m2],\n",
    "                \"r\": [f\"{int(r*100)}%\"],\n",
    "                \"FV\": [f\"{final_compound_fv_m2:.2f}\"]\n",
    "            }\n",
    "\n",
    "            df_m1 = pd.DataFrame(table_data_m1)\n",
    "            df_m2 = pd.DataFrame(table_data_m2)\n",
    "\n",
    "            table_html_m1 = df_m1.to_html(index=False, float_format=lambda x: f\"{x:.2f}\")\n",
    "            table_html_m2 = df_m2.to_html(index=False, float_format=lambda x: f\"{x:.2f}\")\n",
    "\n",
    "            # Combine image and tables in HTML\n",
    "            html_content = f\"\"\"\n",
    "            <div style=\"display: flex; justify-content: space-between; align-items: flex-start; width: 100%;\">\n",
    "                <div style=\"flex: 1; text-align: center;\">\n",
    "                    <div>{image_html}</div>\n",
    "                    <div style=\"display: flex; justify-content: space-around;\">\n",
    "                        <div style=\"flex: 1; margin-right: 10px;\">{table_html_m1}</div>\n",
    "                        <div style=\"flex: 1;\">{table_html_m2}</div>\n",
    "                    </div>\n",
    "                </div>\n",
    "            </div>\n",
    "            \"\"\"\n",
    "\n",
    "            # Display new content in the output widget\n",
    "            display(HTML(html_content))\n",
    "\n",
    "        except Exception as e:\n",
    "            clear_output(wait=True)\n",
    "            display(HTML(f\"<p style='color: red;'>Error: {str(e)}</p>\"))\n",
    "\n",
    "# Create interactive widgets\n",
    "PV_widget = widgets.FloatText(value=1000, description='PV ($):', step=100)\n",
    "t_widget = widgets.IntText(value=25, description='t (years):', min=1, max=50)\n",
    "r_widget = widgets.FloatText(value=10, description='r (%):', step=0.1)\n",
    "m1_widget = widgets.IntText(value=1, description='m1:', min=1, max=12)\n",
    "m2_widget = widgets.IntText(value=2, description='m2:', min=1, max=12)\n",
    "\n",
    "# Create regenerate button\n",
    "button = widgets.Button(description=\"Regenerate\")\n",
    "\n",
    "# Create an output widget for the plots and tables\n",
    "output_widget = widgets.Output()\n",
    "\n",
    "# Define button click event\n",
    "def on_button_clicked(b):\n",
    "    PV = PV_widget.value\n",
    "    t = t_widget.value\n",
    "    r = r_widget.value / 100  # Convert percentage to decimal\n",
    "    m1 = m1_widget.value\n",
    "    m2 = m2_widget.value\n",
    "    generate_output(PV, t, r, m1, m2, output_widget)\n",
    "\n",
    "button.on_click(on_button_clicked)\n",
    "\n",
    "# Organize widgets in a box\n",
    "widget_box = widgets.VBox([\n",
    "    PV_widget,\n",
    "    t_widget,\n",
    "    r_widget,\n",
    "    m1_widget,\n",
    "    m2_widget,\n",
    "    button\n",
    "])\n",
    "\n",
    "# Display the widgets and output separately\n",
    "display(widget_box)\n",
    "display(output_widget)\n",
    "\n",
    "# Initial generation\n",
    "generate_output(1000, 25, 0.10, 1, 2, output_widget)"
   ]
  },
  {
   "cell_type": "markdown",
   "id": "39e313df",
   "metadata": {},
   "source": [
    "---"
   ]
  },
  {
   "cell_type": "markdown",
   "id": "d4e0d9d2",
   "metadata": {},
   "source": [
    "### The Time Value of Money\n",
    "\n",
    "* The future value of the $1,000 deposit in an account paying 10% interest annually at the end of 10 years:\n",
    "\n",
    "    $FV = PV (1 + i)^n \\qquad FV = 1,000 (1 + 0.10)^{10} \\qquad FV = \\$2,593.74$\n",
    "\n",
    "* What is the annual return on this deposit?\n",
    "\n",
    "    The total return over 10 years:\n",
    "    $$\n",
    "    \\frac{2,593.74 - 1,000}{1,000} = 1.59374\n",
    "    $$\n",
    "    Average return per year:\n",
    "    $$\n",
    "    \\frac{1.59374}{10} = 0.159374 \\, \\text{or} \\, 15.94\\%\n",
    "    $$\n",
    "\n",
    "    The exact annual return (geometric mean):\n",
    "    $$\n",
    "    \\sqrt[10]{\\frac{2,593.74}{1,000}} - 1 = \\sqrt[10]{2.59374} - 1 = 0.10 \\, \\text{or} \\, 10.00\\%\n",
    "    $$\n",
    "---"
   ]
  },
  {
   "cell_type": "markdown",
   "id": "b2aea62e",
   "metadata": {},
   "source": [
    "### The Time Value of Money\n",
    "\n",
    "* You invest $5,000 today in an opportunity that will double your money in 5 years. What is the annual growth rate on your investment?\n",
    "\n",
    "$$\n",
    "FV = PV (1 + i)^n\n",
    "$$\n",
    "\n",
    "$$\n",
    "10,000 = 5,000 (1 + i)^5\n",
    "$$\n",
    "\n",
    "$$\n",
    "\\sqrt[5]{\\frac{10,000}{5,000}} - 1 = 14.87\\%\n",
    "$$\n",
    "\n",
    "* You invest $5,000 today in an opportunity that pays interest every six months and will double your money in 5 years. What is the promised annual interest rate on this deposit?\n",
    "---"
   ]
  },
  {
   "cell_type": "markdown",
   "id": "527c658a",
   "metadata": {},
   "source": [
    "### Example 2.1\n",
    "The investment doubles in 5 years, so:\n",
    "$$\n",
    "FV = PV \\times (1 + r)^n\n",
    "$$\n",
    "where:\n",
    "- $FV = 2 \\times PV$ (future value is twice the present value),\n",
    "- $PV = 5,000$ (initial investment),\n",
    "- $r$ is the interest rate per period,\n",
    "- $n = 10$ (since there are 10 six-month periods in 5 years).\n",
    "\n",
    "The promised annual interest rate can be calculated as:\n",
    "$$\n",
    "\\text{Annual Rate} = (1 + r_{\\text{semiannual}})^2 - 1\n",
    "$$\n",
    "where $r_{\\text{semiannual}}$ is the interest rate per six-month period.\n",
    "\n",
    "---"
   ]
  },
  {
   "cell_type": "markdown",
   "id": "9fab4176",
   "metadata": {},
   "source": [
    "### Valuing a stream of cash flows\n",
    "   * When the payments are made (beginning vs. end of the period) is important.\n",
    "   * Standard formulas apply to regular payments made at regular intervals.\n",
    "   * Future value vs. present value formulas.\n",
    "\n",
    "**Future value of a fixed amount paid at the end of each period**\n",
    "$$\n",
    "FV = CF \\left[ \\frac{(1+i)^n - 1}{i} \\right]\n",
    "$$\n",
    "\n",
    "**Future value of a fixed amount paid at the beginning of each period**\n",
    "$$\n",
    "FV = CF \\left[ \\frac{(1+i)^n - 1}{i} \\right] * (1 + i)\n",
    "$$\n",
    "\n",
    "**Present value of a fixed amount paid at the end of each period**\n",
    "$$\n",
    "PV = CF \\left[ \\frac{1 - \\frac{1}{(1+i)^n}}{i} \\right]\n",
    "$$\n",
    "\n",
    "**Present value of a fixed amount paid at the beginning of each period**\n",
    "\n",
    "$\\qquad \\qquad \\qquad \\qquad \\qquad \\qquad \\qquad PV = CF [\\frac{1 - \\frac{1}{(1+i)^{n-1}}}{i}] + \\text{CF} \\qquad \\text{or} \\qquad PV = CF [ \\frac{1 - \\frac{1}{(1 + i)^n}}{i}] \\times (1 + i)$\n",
    "\n",
    "---\n"
   ]
  },
  {
   "cell_type": "markdown",
   "id": "b5bfa5a2",
   "metadata": {},
   "source": [
    "### The Time Value of Money\n",
    "\n",
    "* Arturu Corp offers a payment plan on a new car of $5,000 a year, paid at the end of each of the next five years, with no cash down. If the current interest rate is 7%, what is the car really costing you?\n",
    "\n",
    "$PV = CF \\left[ \\frac{1-\\frac{1}{(1+i)^n}}{i} \\right] \\quad \\rightarrow \\quad PV = 5000 \\left[ \\frac{1-\\frac{1}{(1 + 0.07)^5}}{0.07} \\right]\n",
    "\\quad \\rightarrow \\quad PV = 5000 \\left[ \\frac{0.287014}{0.07} \\right] \\quad \\rightarrow \\quad PV = 5000 * 4.1002 \\, \\rightarrow \\,\\ PV = \\$20,501$\n",
    "<center>\n",
    "<img src=\"../figures/loancost.png\" width=\"900\"/>\n",
    "</center>\n",
    "\n",
    "---"
   ]
  },
  {
   "cell_type": "markdown",
   "id": "7e683f1b",
   "metadata": {},
   "source": [
    "### The Time Value of Money\n",
    "* Suppose a business takes out a $\\$25,000$, five-year loan at 8 percent. The loan agreement calls for the borrower to pay the interest on the loan balance each year and to reduce the loan balance each year by $5,000.\n",
    "\n",
    "**Amortization Table**\n",
    "| Year   | Beginning Balance | Interest Paid | Principal Paid | Total Payment | Ending Balance |\n",
    "|:--------:|-------------------:|---------------:|----------------:|---------------:|----------------:|\n",
    "| 1      | \\$25,000          | \\$2,000        | \\$5,000         | \\$7,000        | \\$20,000        |\n",
    "| 2      | \\$20,000          | \\$1,600        | \\$5,000         | \\$6,600        | \\$15,000        |\n",
    "| 3      | \\$15,000          |\\$1,200        | \\$5,000         | \\$6,200        | \\$10,000        |\n",
    "| 4      | \\$10,000          | \\$800          | \\$5,000         | \\$5,800        | \\$5,000         |\n",
    "| 5      | \\$5,000           | \\$400          | \\$5,000         | \\$5,400        | \\$0             |\n",
    "| Totals |                  | \\$6,000        | \\$25,000        | \\$31,000       |                |\n",
    "\n",
    "1. **Beginning Balance**: The loan balance at the start of the year.\n",
    "2. **Total Payment**: The sum of the interest paid and the principal paid for the year. $\\; \\text{Total Payment} = \\text{Interest Paid} + \\text{Principal Paid}$\n",
    "3. **Interest Paid**: $\\; \\qquad \\qquad \\qquad \\qquad \\qquad \\qquad \\qquad \\qquad \\qquad \\qquad \\qquad \\qquad \\quad \\; \\; \\,\\text{Interest Paid} = \\text{Beginning Balance} \\times \\text{Interest Rate}$\n",
    "4. **Principal Paid**: $\\; \\; \\; \\qquad \\qquad \\qquad \\qquad \\qquad \\qquad \\qquad \\qquad \\qquad \\qquad \\qquad \\quad \\; \\; \\, \\text{\\quad Fixed at \\$5,000 per year.}$\n",
    "5. **Ending Balance**: The remaining loan balance after the payment is made. $\\qquad \\, \\text{\\quad Ending Balance} = \\text{Beginning Balance} - \\text{Principal Paid}$\n",
    "---"
   ]
  },
  {
   "cell_type": "markdown",
   "id": "5926a1a8",
   "metadata": {},
   "source": [
    "### The Time Value of Money\n",
    "* Now assume that the borrower wants to make a fixed payment every period. What is the monthly payment amount that amortizes this lone fully at the end of 5th year?\n",
    "\n",
    "$PV = CF \\times \\frac{1 - \\frac{1}{(1 + i)^n}}{i} \\qquad \\rightarrow \\qquad 25000 = CF \\times \\frac{1 - \\frac{1}{(1 + 0.08)^5}}{0.08} \\qquad \\rightarrow \\qquad 25000 = CF \\times \\frac{1 - 0.680583}{0.08}$\n",
    "\n",
    "$25000 = CF \\times 3.992712 \\qquad \\rightarrow \\qquad CF = \\frac{25000}{3.992712} \\qquad \\rightarrow \\qquad CF = \\$6,261.09$\n",
    "\n",
    "**Amortization Table for Fixed Payments of $6,261.09**\n",
    "\n",
    "| Year   | Beginning Balance | Interest Paid | Principal Paid | Total Payment | Ending Balance |\n",
    "|--------:|-------------------:|---------------:|----------------:|---------------:|----------------:|\n",
    "| 1      | \\$25,000.00          | \\$2,000.00        | \\$4,261.09      | \\$6,261.09     | \\$20,738.91     |\n",
    "| 2      | \\$20,738.91       | \\$1,659.11     | \\$4,601.98      | \\$6,261.09     | \\$16,136.93     |\n",
    "| 3      | \\$16,136.93       | \\$1,290.95     | \\$4,970.14      | \\$6,261.09     | \\$11,166.79     |\n",
    "| 4      | \\$11,166.79       | \\$893.34       | \\$5,367.75      | \\$6,261.09     | \\$5,799.04      |\n",
    "| 5      | \\$5,799.04        | \\$463.92       | \\$5,797.17      | \\$6,261.09     | \\$0.00             |\n",
    "| Totals |                  | \\$6,307.32     | \\$25,000.00     | \\$31,307.32    |                |\n",
    "\n",
    "---"
   ]
  },
  {
   "cell_type": "markdown",
   "id": "c39ff605",
   "metadata": {},
   "source": [
    "### Exercise 2.1\n",
    "\n",
    "* Suppose that you take out a six-year loan of $\\$10,000$. \n",
    "    * The bank requires you to repay the loan evenly over the six years. \n",
    "    * If the interest rate is 10\\% a year, what should the annual payments be?\n",
    "* Now, suppose that you decide to make a $\\$2,500$ baloon payment at the end of 3rd year.  \n",
    "    * What should the annual payments be?\n",
    "---"
   ]
  },
  {
   "cell_type": "markdown",
   "id": "b371fce1",
   "metadata": {},
   "source": [
    "### The Time Value of Money: Perpetuities\n",
    "\n",
    "* When a constant cash flow will occur at regular intervals forever it is called a perpetuity.\n",
    "\n",
    "* The value of a perpetuity is simply the cash flow divided by the interest rate.\n",
    "$$\n",
    "PV (C \\ in \\ Perpetuity) = \\frac{C}{i}\n",
    "$$\n",
    "\n",
    "**Example 2.2**\n",
    "  * You are planning to establish a scholarship fund for underrepresented students in computer science at your university. The fund should provide $75,000 per year to support scholarships, research grants, and conference travel expenses. If the fund is expected to generate an annual return of 5%, how much money do you need to donate initially to sustain this yearly expenditure indefinitely?\n",
    "\n",
    "$$PV = \\frac{C}{r}$$\n",
    "where:\n",
    "- $ PV $: Present Value (initial donation needed)\n",
    "- $ C $: Annual cash flow ($75,000)\n",
    "- $ r $: Annual rate of return (5% or 0.05)\n",
    "\n",
    "$\\qquad PV = \\frac{75,000}{0.05} \\qquad \\rightarrow \\qquad PV = 1,500,000 \\qquad \\rightarrow \\qquad \\text{The initial donation required is \\$1,500,000}$\n",
    "\n",
    "---"
   ]
  },
  {
   "cell_type": "code",
   "execution_count": 2,
   "id": "f157e5c2",
   "metadata": {},
   "outputs": [
    {
     "name": "stdout",
     "output_type": "stream",
     "text": [
      "The initial donation required is: $1,500,000\n"
     ]
    }
   ],
   "source": [
    "# Annual cash flow required for the scholarship fund\n",
    "C = 75000  \n",
    "\n",
    "# Annual rate of return (as a decimal)\n",
    "r = 0.05  \n",
    "\n",
    "# Calculate the present value using the perpetuity formula\n",
    "PV = C / r\n",
    "\n",
    "print(\"The initial donation required is: ${:,.0f}\".format(PV))\n"
   ]
  },
  {
   "cell_type": "markdown",
   "id": "0a6e7027",
   "metadata": {},
   "source": [
    "---"
   ]
  },
  {
   "cell_type": "markdown",
   "id": "4aec47f3",
   "metadata": {},
   "source": [
    "### The Time Value of Money: Growing Perpetuity\n",
    "* Assume you expect the amount of your perpetual payment to increase at a constant rate, $g$. Then,  \n",
    "$$PV (C \\ \\text{in} \\ \\text{Perpetuity}) = \\frac{C}{i - g}$$\n",
    "\n",
    "* In the previous example, the university has asked you to increase the donation to account for the effect of inflation, which is expected to be\n",
    "3% per year. How much more will you need to donate to satisfy that request?  \n",
    "$$PV (C \\ \\text{in} \\ \\text{Perpetuity}) = \\frac{\\$75,000}{0.05 - 0.03} = \\$3,750,000$$\n",
    "\n",
    "---"
   ]
  },
  {
   "cell_type": "code",
   "execution_count": 3,
   "id": "0b937504",
   "metadata": {},
   "outputs": [
    {
     "name": "stdout",
     "output_type": "stream",
     "text": [
      "Present Value for a growing perpetuity: $3,750,000\n",
      "Nominal Present Value (without growth): $1,500,000\n",
      "Additional donation needed: $2,250,000\n"
     ]
    }
   ],
   "source": [
    "# Annual cash flow required for the scholarship fund\n",
    "C = 75000  \n",
    "\n",
    "# Nominal annual rate of return (as a decimal)\n",
    "r = 0.05  \n",
    "\n",
    "# Expected annual inflation (growth) rate (as a decimal)\n",
    "g = 0.03  \n",
    "\n",
    "# Calculate the present value required for a growing perpetuity\n",
    "PV_growing = C / (r - g)\n",
    "\n",
    "# Calculate the nominal (non-growing) perpetuity required\n",
    "PV_nominal = C / r\n",
    "\n",
    "# Calculate the additional donation needed to fund a growing perpetuity\n",
    "additional_donation = PV_growing - PV_nominal\n",
    "\n",
    "print(\"Present Value for a growing perpetuity: ${:,.0f}\".format(PV_growing))\n",
    "print(\"Nominal Present Value (without growth): ${:,.0f}\".format(PV_nominal))\n",
    "print(\"Additional donation needed: ${:,.0f}\".format(additional_donation))\n"
   ]
  },
  {
   "cell_type": "markdown",
   "id": "7498de53",
   "metadata": {},
   "source": [
    "---"
   ]
  },
  {
   "cell_type": "markdown",
   "id": "9348e13a",
   "metadata": {},
   "source": [
    "### The Time Value of Money: Growing Annuity\n",
    "\n",
    "* The present value of a growing annuity with the initial cash flow, $C$, growth rate, $g$, and interest rate, $i$, is defined as\n",
    "$$\n",
    "PV = \\frac{C}{i - g} \\times \\left[ 1 - \\left( \\frac{1 + g}{1 + i} \\right)^N \\right]\n",
    "$$\n",
    "\n",
    "**Example** \n",
    "* You want to begin saving for your retirement. You plan to contribute $\\$10,000$ to the account at the end of this year. You anticipate you will be able to increase your annual contributions by 4% each year for the next 40 years. If your expected annual return is 8%, how much do you expect to have in your retirement account when you retire in 40 years?\n",
    "$$\n",
    "PV = \\frac{10,000}{0.08 - 0.04} \\times \\left[ 1 - \\left( \\frac{1 + 0.04}{1 + 0.08} \\right)^{40} \\right] = 250,000 \\times 0.779 \\approx \\$194,750\n",
    "$$\n",
    "\n",
    "* What will the future value of your savings be when you retire?\n",
    "$$\n",
    "FV = PV \\times (1 + i)^N = 194,750 \\times (1 + 0.08)^{40} \\approx \\$4,230,850.56\n",
    "$$\n",
    "---"
   ]
  },
  {
   "cell_type": "code",
   "execution_count": 12,
   "id": "51f90fb5",
   "metadata": {},
   "outputs": [
    {
     "name": "stdout",
     "output_type": "stream",
     "text": [
      "Future Value of your retirement savings: $4,230,875.22\n"
     ]
    }
   ],
   "source": [
    "# Parameters for the growing annuity\n",
    "C = 10000    # Initial contribution at the end of the first year\n",
    "r = 0.08     # Expected annual return (8%)\n",
    "g = 0.04     # Annual growth rate of contributions (4%)\n",
    "n = 40       # Number of years of contributions\n",
    "\n",
    "# Calculate the future value of the growing annuity using the formula:\n",
    "# FV = C * [ (1 + r)^n - (1 + g)^n ] / (r - g)\n",
    "FV = C * ((1 + r)**n - (1 + g)**n) / (r - g)\n",
    "\n",
    "print(\"Future Value of your retirement savings: ${:,.2f}\".format(FV))\n"
   ]
  },
  {
   "cell_type": "markdown",
   "id": "f52e2750",
   "metadata": {},
   "source": [
    "---"
   ]
  },
  {
   "cell_type": "code",
   "execution_count": 2,
   "id": "cb591f6f",
   "metadata": {
    "jupyter": {
     "source_hidden": true
    }
   },
   "outputs": [
    {
     "data": {
      "application/vnd.jupyter.widget-view+json": {
       "model_id": "c58c7283d8294585839609b26681ae56",
       "version_major": 2,
       "version_minor": 0
      },
      "text/plain": [
       "interactive(children=(FloatText(value=10000.0, description='Initial Contribution ($):'), FloatSlider(value=0.0…"
      ]
     },
     "metadata": {},
     "output_type": "display_data"
    },
    {
     "data": {
      "text/plain": [
       "<function __main__.calculate_future_value(C, r, g, n)>"
      ]
     },
     "execution_count": 2,
     "metadata": {},
     "output_type": "execute_result"
    }
   ],
   "source": [
    "import ipywidgets as widgets\n",
    "from ipywidgets import interact\n",
    "import numpy as np\n",
    "import matplotlib.pyplot as plt\n",
    "\n",
    "def calculate_future_value(C, r, g, n):\n",
    "    \"\"\"\n",
    "    Calculate the future value of retirement savings using a growing annuity and plot the savings growth over time.\n",
    "    \n",
    "    Parameters:\n",
    "    C : float\n",
    "        Initial contribution at the end of the first year.\n",
    "    r : float\n",
    "        Expected annual return (as a decimal).\n",
    "    g : float\n",
    "        Annual growth rate of contributions (as a decimal).\n",
    "    n : int\n",
    "        Number of years of contributions.\n",
    "    \"\"\"\n",
    "    # Calculate the future value of the growing annuity\n",
    "    FV = C * ((1 + r)**n - (1 + g)**n) / (r - g)\n",
    "    \n",
    "    # Calculate the savings growth over time\n",
    "    years = np.arange(n + 1)  # Time points from 0 to n\n",
    "    future_values = np.zeros(n + 1)  # Array to store future values at each year\n",
    "    \n",
    "    for t in range(1, n + 1):\n",
    "        future_values[t] = C * ((1 + r)**t - (1 + g)**t) / (r - g)\n",
    "    \n",
    "    # Print the future value at retirement\n",
    "    print(\"Future Value of your retirement savings: ${:,.2f}\".format(FV))\n",
    "    \n",
    "    # Plot the savings growth over time\n",
    "    plt.figure(figsize=(8, 5))\n",
    "    plt.plot(years, future_values, marker='o', linestyle='-', color='b', label=\"Future Value Over Time\")\n",
    "    plt.xlabel(\"Years\")\n",
    "    plt.ylabel(\"Future Value ($)\")\n",
    "    plt.title(\"Growth of Retirement Savings Over Time\")\n",
    "    plt.grid(True)\n",
    "    plt.legend()\n",
    "    plt.show()\n",
    "\n",
    "# Create interactive widgets for input parameters\n",
    "interact(\n",
    "    calculate_future_value,\n",
    "    C=widgets.FloatText(value=10000, description='Initial Contribution ($):'),\n",
    "    r=widgets.FloatSlider(value=0.08, min=0.0, max=0.2, step=0.01, description='Annual Return (r):'),\n",
    "    g=widgets.FloatSlider(value=0.04, min=0.0, max=0.2, step=0.01, description='Growth Rate (g):'),\n",
    "    n=widgets.IntSlider(value=40, min=1, max=100, step=1, description='Years (n):')\n",
    ")\n"
   ]
  },
  {
   "cell_type": "markdown",
   "id": "d8fdc369",
   "metadata": {},
   "source": [
    "---"
   ]
  },
  {
   "cell_type": "markdown",
   "id": "dbc00dd8",
   "metadata": {},
   "source": [
    "### Exercise 2.2\n",
    "\n",
    "In September 2019, a Californian man won a record $\\$680$ million lottery prize, to be paid out over 30 annual installments. \n",
    "\n",
    "The first payment was \\$10.235 million, and each subsequent payment increased by 5% per year, so that the final payment is approximately \\$42.13 million. \n",
    "\n",
    "If the annual interest rate is 3%, what is the present value of this $\\$680$ million prize?\n",
    "\n",
    "\n",
    "---"
   ]
  },
  {
   "cell_type": "markdown",
   "id": "f87c984d",
   "metadata": {},
   "source": [
    "### Exercise 2.3\n",
    "\n",
    "A second-year MBA student has just been offered a job at $95,000 a year. \n",
    "\n",
    "She anticipates her salary to increase by $5\\%$ a year until her retirement in 40 years. \n",
    "\n",
    "Given an interest rate of $10\\%$, what is the present value of her lifetime salary?\n",
    "\n",
    "---"
   ]
  },
  {
   "cell_type": "markdown",
   "id": "8fc5f2c1",
   "metadata": {},
   "source": [
    "### Exercise 2.4\n",
    "\n",
    "Olivia and Mark are preparing for their son Ethan's future education expenses. They project that when Ethan enters college in 16 years, the cost will be \\$35,000 per year for four years. The annual interest rate for the savings period is expected to be 10%.\n",
    "\n",
    "  * How much money must Olivia and Mark deposit each year so that Ethan's four years of college expenses will be fully covered?\n",
    "\n",
    "  * Alternatively, if they decide to increase the deposit amount by 5% each year, what should their first deposit be?\n",
    "\n",
    "---\n",
    "\n"
   ]
  },
  {
   "cell_type": "markdown",
   "id": "bfd194f0",
   "metadata": {},
   "source": [
    "### Interest Rates\n",
    "\n",
    "#### Annual Percentage Rate (APR)\n",
    "* The amount of simple interest earned/paid in one year (the amount of interest earned/paid without the effect of compounding.)\n",
    "  * Does not reflect the true amount you will earn/pay over one year.\n",
    "  * Can't use the APR as a discount rate.\n",
    "  * APR becomes meaningful only if the compounding interval is given.\n",
    "\n",
    "#### Effective Annual Rate (EAR)\n",
    "  * The actual amount of interest that will be earned/paid at the end of one year.\n",
    "$$\n",
    "(1 + EAR) = (1 + \\frac{APR}{k})^k\n",
    "$$\n",
    "**Example 2.3**\n",
    "* If the annual percentage rate (APR) is 8 percent, and compounded quarterly, what is the effective annual rate?\n",
    "$$\n",
    "(1 + EAR) = (1 + \\frac{0.08}{4})^4\n",
    "$$\n",
    "$$\n",
    "(1 + EAR) = (1 + \\frac{0.08}{4})^4 \\quad EAR = 8.24\\%\n",
    "$$\n",
    "\n",
    "---"
   ]
  },
  {
   "cell_type": "markdown",
   "id": "b3345576",
   "metadata": {},
   "source": [
    "### Example 2.4\n",
    "Check Express offers you the following deal: you can write a check for $\\$110$ that is dated 14 days in the future, and in return, they give you $\\$100$ in cash today. Determine the Annual Percentage Rate (APR) and the Effective Annual Rate (EAR) for this arrangement.\n",
    "\n",
    "$FV = PV (1 + i)^n \\qquad \\rightarrow \\qquad 110 = 100 (1 + i)^1 \\qquad \\rightarrow \\qquad i=10%$\n",
    "\n",
    "$APR = 10\\% * (\\frac{365}{14}) = 260.71\\%$\n",
    "\n",
    "$EAR = (1 + \\frac{APR}{k})^k - 1 \\qquad \\rightarrow \\qquad EAR = (1 + \\frac{260.71\\%}{365/14})^{\\frac{365}{14}}-1 \\qquad \\rightarrow \\qquad EAR \\approx 1,100\\%$\n",
    "\n",
    "---"
   ]
  },
  {
   "cell_type": "markdown",
   "id": "904a826e",
   "metadata": {},
   "source": [
    "### Interest Rates: Continuous Compounding\n",
    "\n",
    "* There is no limit to how frequently interest could be paid.\n",
    "* Compounding every infinitesimal instant is called continuous compounding.\n",
    "\n",
    "$\\qquad FV = PV\\left[\\left(1 + \\frac{r}{k}\\right)^k\\right]^T \\qquad \\text{and} \\qquad \\lim_{k \\to \\infty} \\left(1 + \\frac{r}{k}\\right)^k = e^r$\n",
    "\n",
    "$\\qquad \\lim_{k \\to \\infty} \\left[\\left(1 + \\frac{r}{k}\\right)^k\\right]^T = \\left(e^r\\right)^T \\qquad \\rightarrow \\qquad FV = PV\\left[\\left(1 + \\frac{r}{k}\\right)^k\\right]^T= PV \\times e^{rT}$\n",
    "\n",
    "<center>\n",
    "<img src=\"../figures/compounding_comp.png\" width=\"900\"/>\n",
    "</center>\n",
    "\n",
    "---"
   ]
  },
  {
   "cell_type": "markdown",
   "id": "a82f48e1",
   "metadata": {},
   "source": [
    "### Example 2.5\n",
    "* You will be paid $\\$50,000$ at the end of five years. If the annual continuously compounded rate of interest is 7 percent, what is the present value of this payment?\n",
    "$$FV = PV * e^{rT}$$\n",
    "$$50,000 = PV * e^{0.07*5}$$\n",
    "$$50,000 = PV * 1.4191 \\quad \\rightarrow \\qquad  PV = \\$35,234.40$$\n",
    "\n",
    "---"
   ]
  },
  {
   "cell_type": "markdown",
   "id": "144ac319",
   "metadata": {},
   "source": [
    "### Exercise 2.5\n",
    "* You are quoted an interest rate of 9% on an investment of $15,000. What is the value of your investment after five years if interest is compounded:\n",
    "  \n",
    "  * Annually?\n",
    "    \n",
    "  * Monthly?\n",
    "\n",
    "  * Continuously?\n",
    "\n",
    "---"
   ]
  },
  {
   "cell_type": "markdown",
   "id": "4973e324",
   "metadata": {},
   "source": [
    "### Exercise 2.6\n",
    "* What is the present value of an annuity of $6,200 per year, with the first cash flow received four years from today and the last one received 28 years from today if the appropriate discount rate is 7 percent?\n",
    "\n",
    "---"
   ]
  },
  {
   "cell_type": "markdown",
   "id": "f89eb852",
   "metadata": {},
   "source": [
    "### Exercise 2.7\n",
    "* What is the value today of a 20-year annuity that pays $1,200 a year? The annuity's first payment occurs seven years from today. The annual interest rate is 10 percent for the years 1 through 5, and 14 percent thereafter.\n",
    "\n",
    "---"
   ]
  },
  {
   "cell_type": "markdown",
   "id": "3b00c473",
   "metadata": {},
   "source": [
    "### Exercise 2.8\n",
    "* You want to borrow $\\$100,000$ from your local bank to buy a new vehicle. You can afford to make monthly payments of $\\$2,100$, but no more. Assuming monthly compounding, what is the highest APR you can afford on a 60-month loan?\n",
    "\n",
    "---"
   ]
  },
  {
   "cell_type": "markdown",
   "id": "22968526",
   "metadata": {},
   "source": [
    "### Exercise 2.9\n",
    "* You are planning to save for retirement over the next 30 years. You will invest $\\$1,000$ per month in a diversified equity fund in real dollars and $\\$300$ per month in a municipal bond fund in real dollars. The effective annual return of the equity fund is expected to be 10%, and the bond fund will earn 6%. When you retire, you will combine your money into an account with an effective return of 7%. The inflation rate over this period is expected to be 3%. How much can you withdraw each month from your account in real terms assuming a withdrawal period of 25 years? What is the nominal dollar amount of your last withdrawal?\n",
    "\n",
    "---"
   ]
  },
  {
   "cell_type": "markdown",
   "id": "0a8e3143",
   "metadata": {},
   "source": [
    "### What is next?\n",
    "* Problem Set 2\n",
    "* Next Lecture\n",
    "    * Investment Decision Rules\n",
    "        * Reading(s): CF-B&D: Ch. 7\n",
    "---"
   ]
  }
 ],
 "metadata": {
  "kernelspec": {
   "display_name": "base",
   "language": "python",
   "name": "python3"
  },
  "language_info": {
   "codemirror_mode": {
    "name": "ipython",
    "version": 3
   },
   "file_extension": ".py",
   "mimetype": "text/x-python",
   "name": "python",
   "nbconvert_exporter": "python",
   "pygments_lexer": "ipython3",
   "version": "3.12.7"
  }
 },
 "nbformat": 4,
 "nbformat_minor": 5
}
