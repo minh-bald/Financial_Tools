{
 "cells": [
  {
   "cell_type": "markdown",
   "id": "fbe13113545c5801",
   "metadata": {},
   "source": [
    "\n",
    "<center>\n",
    "<img src=\"../images/fscampus_small2.png\" width=\"1200\"/>\n",
    "</center>\n",
    "\n",
    "\n",
    "***Finance I (OFIN)-SS2025***\n",
    "\n",
    "**Dr. Omer Cayirli**\n",
    "\n",
    "Lecturer in Empirical Finance\n",
    "\n",
    "omer.cayirli@vgu.edu.vn\n",
    "\n",
    "---"
   ]
  },
  {
   "cell_type": "markdown",
   "id": "0480c86b",
   "metadata": {},
   "source": [
    "## Lecture 07\n",
    "---"
   ]
  },
  {
   "cell_type": "markdown",
   "id": "02dcf0de",
   "metadata": {},
   "source": [
    "### Outline\n",
    "*   Risk and Return \n",
    "    *   Market Efficiency\n",
    "    *   Capital markets and the pricing of risk\n",
    "    \n",
    "\n",
    "---"
   ]
  },
  {
   "cell_type": "code",
   "execution_count": 15,
   "id": "c58f7933",
   "metadata": {},
   "outputs": [
    {
     "data": {
      "text/html": [
       "\n",
       "    <div style=\"border: 2px solid #ccc; padding: 20px; text-align: center;\">\n",
       "        <h3>Video: israel_iran_tensions.mp4</h3>\n",
       "        <p>VS Code Jupyter blocks video controls. Click link to open in your default player:</p>\n",
       "        \n",
       "        <button onclick=\"window.open('file:///c:/Users/Asus/My Drive/GitHubProjects/Financial Tools/videos/israel_iran_tensions.mp4')\" style=\"padding: 10px 20px; font-size: 16px;\">\n",
       "            Open Video\n",
       "        </button>\n",
       "    </div>\n",
       "    "
      ],
      "text/plain": [
       "<IPython.core.display.HTML object>"
      ]
     },
     "execution_count": 15,
     "metadata": {},
     "output_type": "execute_result"
    }
   ],
   "source": [
    "def create_video_link(video_path):\n",
    "    abs_path = os.path.abspath(video_path).replace('\\\\', '/')\n",
    "    file_url = f\"file:///{abs_path}\"\n",
    "    \n",
    "    html = f\"\"\"\n",
    "    <div style=\"border: 2px solid #ccc; padding: 20px; text-align: center;\">\n",
    "        <h3>Video: {os.path.basename(video_path)}</h3>\n",
    "        <p>VS Code Jupyter blocks video controls. Click link to open in your default player:</p>\n",
    "        \n",
    "        <button onclick=\"window.open('{file_url}')\" style=\"padding: 10px 20px; font-size: 16px;\">\n",
    "            Open Video\n",
    "        </button>\n",
    "    </div>\n",
    "    \"\"\"\n",
    "    return HTML(html)\n",
    "\n",
    "create_video_link(video_path)\n"
   ]
  },
  {
   "cell_type": "markdown",
   "id": "6e272875",
   "metadata": {},
   "source": [
    "### Capital markets and the pricing of risk\n",
    "\n",
    "<div style=\"display: flex; justify-content: space-around;\">\n",
    "    <img src=\"..\\figures\\pricing_risk_01.png\" style=\"width: 45%;\" />\n",
    "    <img src=\"..\\figures\\pricing_risk_02.png\" style=\"width: 45%;\" />\n",
    "</div>\n",
    "\n",
    "*   What drives the reaction of the stock markets to the increased tension between Israel and Iran?\n",
    "\n",
    "*   Why do the daily returns of indices differ such a great extent?\n",
    "\n",
    "*   What does an increase in the volatility index (VIX) mean for stocks? For the overall markets?\n",
    "\n",
    "---"
   ]
  },
  {
   "cell_type": "markdown",
   "id": "1e3db4c7",
   "metadata": {},
   "source": [
    "### Capital markets and the pricing of risk\n",
    "\n",
    "<div style=\"display: flex; justify-content: space-around;\">\n",
    "    <img src=\"..\\figures\\pricing_risk_03.png\" style=\"width: 45%;\" />\n",
    "    <img src=\"..\\figures\\pricing_risk_04.png\" style=\"width: 45%;\" />\n",
    "</div>\n",
    "\n",
    "*   What does the flight to quality mean?\n",
    "\n",
    "*   How would DXY index react to a flight to quality?\n",
    "\n",
    "*   Do the rising yields suggest a flight to quality?\n",
    "\n",
    "*   How would you expect the precious metal markets to be affected by these events?\n",
    "\n",
    "---"
   ]
  },
  {
   "cell_type": "markdown",
   "id": "ea4f9209",
   "metadata": {},
   "source": [
    "### Capital markets and the pricing of risk\n",
    "\n",
    "<div style=\"display: flex; justify-content: space-around;\">\n",
    "    <img src=\"..\\figures\\pricing_risk_05.png\" style=\"width: 45%;\" />\n",
    "    <img src=\"..\\figures\\pricing_risk_06.png\" style=\"width: 45%;\" />\n",
    "</div>\n",
    "\n",
    "*   Why do we observe differing reactions of the consumer staples and consumer discretionary sub-indices?\n",
    "\n",
    "*   What are the potential drivers of these price moves and the differences?\n",
    "\n",
    "*   What do these observations imply regarding their riskiness vs. the SP500?\n",
    "\n",
    "---"
   ]
  },
  {
   "cell_type": "markdown",
   "id": "021671c4",
   "metadata": {},
   "source": [
    "### Capital markets and the pricing of risk\n",
    "\n",
    "<center>\n",
    "<img src=\"../figures/market_efficiency.png\" width=\"640\"/>\n",
    "</center>\n",
    "\n",
    "---"
   ]
  },
  {
   "cell_type": "markdown",
   "id": "0098d226",
   "metadata": {},
   "source": [
    "### Capital markets and the pricing of risk\n",
    "\n",
    "**The efficient markets hypothesis (EMH)**\n",
    "    \n",
    "*   The weak-form hypothesis asserts that stock prices already reflect all information that can be derived by examining market trading data such as the history of past prices, trading volume, or short interest.\n",
    "\n",
    "*   The semistrong-form hypothesis states that all publicly available information regarding the prospects of a firm must be reflected already in the stock price.\n",
    "    \n",
    "*   The strong-form version of the efficient market hypothesis states that stock prices reflect all information relevant to the firm, even including information available only to company insiders.\n",
    "\n",
    "---"
   ]
  },
  {
   "cell_type": "markdown",
   "id": "463da11c",
   "metadata": {},
   "source": [
    "### Common Measures of Risk and Return\n",
    "\n",
    "*   Probability Distributions\n",
    "    \n",
    "    *   When an investment is risky, there are different returns it may earn.\n",
    "    \n",
    "    *   Each possible return has some likelihood of occurring.\n",
    "    \n",
    "    *   This information is summarized with a probability distribution, which assigns a probability, $P_R$, that each possible return, R, will occur.\n",
    "\n",
    "*   Expected Return\n",
    "    \n",
    "    *   Given the probability distribution of returns, we can compute the expected return.\n",
    "    \n",
    "    *   The expected (or mean) return as a weighted average of the possible returns, where the weights correspond to the probabilities.\n",
    "    $$ Expected\\ Return = E[R] = \\sum_R P_R * R $$\n",
    "\n",
    "| Current Stock Price ($) | Stock Price in One Year ($) | Return, R | Probability, $P_R$ |\n",
    "|---|---|---|---|\n",
    "| 100 | 140 | 0.40 | 25% |\n",
    "|   | 110 | 0.10 | 50% |\n",
    "|   | 80 | -0.20 | 25% |\n",
    "\n",
    "$$ Expected\\ Return = E[R] = \\sum_R P_R * R \\quad \\Rightarrow \\quad E[R] = 25\\%(-0.20) + 50\\%(0.10) + 25\\%(0.40) = 10\\% $$\n",
    "\n",
    "---"
   ]
  },
  {
   "cell_type": "markdown",
   "id": "1f4aeaa9",
   "metadata": {},
   "source": [
    "### Common Measures of Risk and Return\n",
    "\n",
    "*   Variance and Standard Deviation\n",
    "    *   Variance: The expected squared deviation from the mean.\n",
    "    *   Standard Deviation: The square root of the variance.\n",
    "    $$ Var(R) = \\sigma^2 = E[(R – E[R])^2] = \\sum_R P_R \\times (R - E[R])^2 $$\n",
    "    $$ SD(R) = \\sigma = \\sqrt{Var(R)} $$\n",
    "\n",
    "| Current Stock Price ($) | Stock Price in One Year ($) | Return, R | Probability, $P_R$ |\n",
    "|---|---|---|---|\n",
    "| 100 | 140 | 0.40 | 25% |\n",
    "|   | 110 | 0.10 | 50% |\n",
    "|   | 80 | -0.20 | 25% |\n",
    "\n",
    "$ Var[R] = 25\\% \\times (-0.20 - 0.10)^2 + 50\\% \\times (0.10 – 0.10)^2 + 25\\% \\times (0.40 – 0.10)^2 = 0.045 $\n",
    "\n",
    "$ SD(R) = \\sqrt{Var(R)} = \\sqrt{0.045} = 21.2\\% $\n",
    "\n",
    "---"
   ]
  },
  {
   "cell_type": "markdown",
   "id": "4eef045e",
   "metadata": {},
   "source": [
    "### Common Measures of Risk and Return\n",
    "\n",
    "*   Based on the following information, calculate the expected return and standard deviation for the two stocks:\n",
    "\n",
    "    | State of Economy | Probability of State of Economy | Rate of Return if State Occurs Stock A | Rate of Return if State Occurs Stock B |\n",
    "    |---|---|---|---|\n",
    "    | Recession | .30 | .06 | -.20 |\n",
    "    | Normal | .55 | .07 | .13 |\n",
    "    | Boom | .15 | .11 | .33 |\n",
    "\n",
    "    $$ Expected\\ Return = E[R] = \\sum_R P_R * R $$\n",
    "    $$ Var(R) = \\sigma^2 = E[(R – E[R])^2] = \\sum_R P_R \\times (R - E[R])^2 $$\n",
    "    $$ SD(R) = \\sigma = \\sqrt{Var(R)} $$\n",
    "\n",
    "\n",
    "    | State of Economy | Probability of State of Economy | $R_A$ | $R_B$ | $P_i*(R_A-E(R_A))^2$ | $P_i*(R_B-E(R_B))^2$ |\n",
    "    |---|---|---|---|---|---|\n",
    "    | Recession | 30% | 6.00% | -20.00% | 0.0001 | 0.0204 |\n",
    "    | Normal | 55% | 7.00% | 13.00% | 0.0000 | 0.0026 |\n",
    "    | Boom | 15% | 11.00% | 33.00% | 0.0002 | 0.0109 |\n",
    "    | **E(Ri)** |  | **7.30%** | **6.10%** |  |  |\n",
    "    | **$\\sigma^2$** |  |  |  | **0.000261** | **0.033909** |\n",
    "    | **$\\sigma_i$** |  |  |  | **1.62%** | **18.41%** |\n",
    "\n",
    "---"
   ]
  },
  {
   "cell_type": "markdown",
   "id": "4b021c15",
   "metadata": {},
   "source": [
    "### Common Measures of Risk and Return\n",
    "\n",
    "*   Computing Historical Returns\n",
    "    \n",
    "    *   Realized Return: The return that actually occurs over a particular time period.\n",
    "    $$ R_{t+1} = \\frac{Div_{t+1} + P_{t+1}}{P_t} - 1 = \\frac{Div_{t+1}}{P_t} + \\frac{P_{t+1} - P_t}{P_t} $$\n",
    "    $$ = Dividend\\ Yield + Capital\\ Gain\\ Rate $$\n",
    "    \n",
    "    *   This represents the total return over the (t, t+1) period.\n",
    "    \n",
    "    *   When running an analysis using risk-return profiles always use the total return, not price return.\n",
    "\n",
    "*   Computing Historical Returns\n",
    "    \n",
    "    *   Average Annual Returns: The return that actually occurs over a particular time period.\n",
    "    $$ \\bar{R} = \\frac{1}{T}(R_1 + R_2 + \\dots + R_T) = \\frac{1}{T}\\sum_{t=1}^T R_t $$\n",
    "    \n",
    "    *   Compound Annual Return: The geometric average of the annual returns $R_1, \\dots, R_T$ :\n",
    "    $$ \\bar{R}_G = [(1 + R_1) \\times (1 + R_2) \\times \\dots \\times (1 + R_T)]^{1/T} - 1 $$\n",
    "    \n",
    "---"
   ]
  },
  {
   "cell_type": "markdown",
   "id": "58e32d79",
   "metadata": {},
   "source": [
    "### Common Measures of Risk and Return\n",
    "\n",
    "*   Computing Historical Returns\n",
    "    \n",
    "    *   Calculate the arithmetic and the geometric average annual returns for the set of returns given below.\n",
    "\n",
    "    | Year   | 1     | 2    | 3   | 4     | 5    |\n",
    "    |--------|-------|------|-----|-------|------|\n",
    "    | Return | -10%  | 15%  | 5%  | -15%  | 20%  |\n",
    "\n",
    "    $$ \\bar{R} = \\frac{1}{5}(-10\\% + 15\\% + 5\\% - 15\\% + 20\\%) = 3\\% $$\n",
    "    $$ \\bar{R}_G = [(1 – 10\\%) \\times (1 + 15\\%) \\times (1+5\\%) \\times (1 - 15\\%) \\times (1 + 20\\%)]^{1/5} – 1 = 2.08\\% $$\n",
    "\n",
    "---"
   ]
  },
  {
   "cell_type": "markdown",
   "id": "f5e4fb19",
   "metadata": {},
   "source": [
    "### Common Measures of Risk and Return\n",
    "\n",
    "*   Arithmetic vs. geometric average annual returns\n",
    "    *   The compound annual return will always be below the average return, and the difference grows with the volatility of the annual returns.\n",
    "    \n",
    "    *   The compound annual return is a better description of the long-run historical performance of an investment. The ranking of the long-run performance of different investments coincides with the ranking of their compound annual returns.\n",
    "    \n",
    "    *   When we are trying to estimate an investment's expected return over a future horizon based on its past performance, the arithmetic average return is superior to compound annual return.\n",
    "    \n",
    "    *   If we view past returns as independent draws from the same distribution, then the arithmetic average return provides an unbiased estimate of the true expected return.\n",
    "        \n",
    "        *   In doing so, we must compute the historical returns using the same time interval as the expected return we are estimating.\n",
    "            *   Use the average of past monthly returns to estimate the future monthly return,\n",
    "            *   Use the average of past annual returns to estimate the future annual return.\n",
    "            *   Avoid converting one to another using compounding.\n",
    "\n",
    "---"
   ]
  },
  {
   "cell_type": "markdown",
   "id": "f8155642",
   "metadata": {},
   "source": [
    "### Common Measures of Risk and Return\n",
    "\n",
    "<center>\n",
    "<img src=\"../figures/historical_risk_return.png\" width=\"640\"/>\n",
    "</center>\n",
    "\n",
    "---"
   ]
  },
  {
   "cell_type": "markdown",
   "id": "fb06bcc5",
   "metadata": {},
   "source": [
    "### Variance and Volatility of Returns\n",
    "\n",
    "**Variance estimate using realized returns**\n",
    "\n",
    "$$\\sigma^2(R) = \\frac{1}{T-1} \\sum_{t=1}^{T} (R_t - \\bar{R})^2$$\n",
    "\n",
    "**Estimation Error: Using Past Returns to Predict the Future**\n",
    "\n",
    "- We do not know what investors expected in the past; we can only observe the actual returns that were realized.\n",
    "\n",
    "- The average return is just an estimate of the true expected return, and it is subject to estimation error.\n",
    "\n",
    "**Standard Error**\n",
    "\n",
    "- Measures the estimation error of a statistical estimate.\n",
    "\n",
    "$$SE = \\frac{\\sigma(R)}{\\sqrt{Number\\ of\\ Obs.}}$$\n",
    "\n",
    "- The average return will be within two SEs of the true E(R) approximately 95% of the time\n",
    "\n",
    "---"
   ]
  },
  {
   "cell_type": "markdown",
   "id": "3fcd993f",
   "metadata": {},
   "source": [
    "###   Variance and Volatility of Returns\n",
    "\n",
    "* From 1926 to 2024 the average return of the S&P 500 was 9.8% with a volatility of 20.81%. Assuming its returns are IID each year, what is the 95% confidence interval for the expected return during this period?  \n",
    "  * 95% confidence interval for the expected return: $\\,\\text{Historical Average Return}\\pm(2\\cdot SE)\\,$  \n",
    "  $$\\text{Historical Average Return}\\pm\\Bigl(2\\cdot\\frac{\\sigma(R)}{\\sqrt{n}}\\Bigr)$$  \n",
    "  $$9.8\\%\\pm\\Bigl(2\\cdot\\frac{20.81\\%}{\\sqrt{99}}\\Bigr)\n",
    "    =9.8\\%\\pm4.10\\%\n",
    "    =[5.70\\%,\\,13.90\\%]$$\n",
    "\n",
    "* From 2005 to 2024 the average return of the S&P 500 was 11.87% with a volatility of 17.35%. Assuming its returns are IID each year, what is the 95% confidence interval for the expected return during this period?  \n",
    "  * 95% confidence interval for the expected return: $\\,\\text{Historical Average Return}\\pm(2\\cdot SE)\\,$  \n",
    "  $$\\text{Historical Average Return}\\pm\\Bigl(2\\cdot\\frac{\\sigma(R)}{\\sqrt{n}}\\Bigr)$$  \n",
    "  $$11.87\\%\\pm\\Bigl(2\\cdot\\frac{17.35\\%}{\\sqrt{20}}\\Bigr)\n",
    "    =11.87\\%\\pm7.60\\%\n",
    "    =[4.27\\%,\\,19.47\\%]$$\n",
    "\n",
    "---\n"
   ]
  },
  {
   "cell_type": "code",
   "execution_count": 18,
   "id": "a867a38e",
   "metadata": {},
   "outputs": [
    {
     "data": {
      "text/html": [
       "\n",
       "    <div style=\"border: 2px solid #ccc; padding: 20px; text-align: center;\">\n",
       "        <h3>Video: Black_Monday.mp4</h3>\n",
       "        <p>VS Code Jupyter blocks video controls. Click link to open in your default player:</p>\n",
       "        \n",
       "        <button onclick=\"window.open('file:///c:/Users/Asus/My Drive/GitHubProjects/Financial Tools/videos/Black_Monday.mp4')\" style=\"padding: 10px 20px; font-size: 16px;\">\n",
       "            Open Video\n",
       "        </button>\n",
       "    </div>\n",
       "    "
      ],
      "text/plain": [
       "<IPython.core.display.HTML object>"
      ]
     },
     "execution_count": 18,
     "metadata": {},
     "output_type": "execute_result"
    }
   ],
   "source": [
    "### Black Monday (1987)\n",
    "import subprocess\n",
    "import webbrowser\n",
    "import os\n",
    "from IPython.display import HTML\n",
    "video_path = r\"..\\videos\\Black_Monday.mp4\"\n",
    "\n",
    "\n",
    "def create_video_link(video_path):\n",
    "    abs_path = os.path.abspath(video_path).replace('\\\\', '/')\n",
    "    file_url = f\"file:///{abs_path}\"\n",
    "    \n",
    "    html = f\"\"\"\n",
    "    <div style=\"border: 2px solid #ccc; padding: 20px; text-align: center;\">\n",
    "        <h3>Video: {os.path.basename(video_path)}</h3>\n",
    "        <p>VS Code Jupyter blocks video controls. Click link to open in your default player:</p>\n",
    "        \n",
    "        <button onclick=\"window.open('{file_url}')\" style=\"padding: 10px 20px; font-size: 16px;\">\n",
    "            Open Video\n",
    "        </button>\n",
    "    </div>\n",
    "    \"\"\"\n",
    "    return HTML(html)\n",
    "\n",
    "create_video_link(video_path)\n",
    "    \n"
   ]
  },
  {
   "cell_type": "code",
   "execution_count": 19,
   "id": "5371e488",
   "metadata": {},
   "outputs": [
    {
     "data": {
      "text/html": [
       "\n",
       "    <div style=\"border: 2px solid #ccc; padding: 20px; text-align: center;\">\n",
       "        <h3>Video: 2008_Crash.mp4</h3>\n",
       "        <p>VS Code Jupyter blocks video controls. Click link to open in your default player:</p>\n",
       "        \n",
       "        <button onclick=\"window.open('file:///c:/Users/Asus/My Drive/GitHubProjects/Financial Tools/videos/2008_Crash.mp4')\" style=\"padding: 10px 20px; font-size: 16px;\">\n",
       "            Open Video\n",
       "        </button>\n",
       "    </div>\n",
       "    "
      ],
      "text/plain": [
       "<IPython.core.display.HTML object>"
      ]
     },
     "execution_count": 19,
     "metadata": {},
     "output_type": "execute_result"
    }
   ],
   "source": [
    "### 2008 Crash\n",
    "import subprocess\n",
    "import webbrowser\n",
    "import os\n",
    "from IPython.display import HTML\n",
    "\n",
    "video_path = r\"..\\videos\\2008_Crash.mp4\"\n",
    "\n",
    "def create_video_link(video_path):\n",
    "    abs_path = os.path.abspath(video_path).replace('\\\\', '/')\n",
    "    file_url = f\"file:///{abs_path}\"\n",
    "    \n",
    "    html = f\"\"\"\n",
    "    <div style=\"border: 2px solid #ccc; padding: 20px; text-align: center;\">\n",
    "        <h3>Video: {os.path.basename(video_path)}</h3>\n",
    "        <p>VS Code Jupyter blocks video controls. Click link to open in your default player:</p>\n",
    "        \n",
    "        <button onclick=\"window.open('{file_url}')\" style=\"padding: 10px 20px; font-size: 16px;\">\n",
    "            Open Video\n",
    "        </button>\n",
    "    </div>\n",
    "    \"\"\"\n",
    "    return HTML(html)\n",
    "\n",
    "create_video_link(video_path)\n",
    "    \n"
   ]
  },
  {
   "cell_type": "markdown",
   "id": "fc79131a",
   "metadata": {},
   "source": [
    "### Common Versus Independent Risk\n",
    "*   Common Risk (Systematic Risk)\n",
    "    *   Systematic risk is common to any risky asset in the financial market.\n",
    "    *   It is not diversifiable.\n",
    "    *   Wars, pandemic, natural disasters etc.\n",
    "*   Individual Risk (Idiosyncratic Risk)\n",
    "    *   Idiosyncratic risk is peculiar to the asset under consideration.\n",
    "    *   Diversifiable.\n",
    "    *   Problems with management, liquidity issues, regulatory changes, worker strikes etc.\n",
    "*   The averaging out of independent risks in a large portfolio is called diversification.\n",
    "\n",
    "<center>\n",
    "<img src=\"../figures/systematic_vs_idiosyncratic.png\" width=\"640\"/>\n",
    "</center>\n",
    "    \n",
    "---"
   ]
  },
  {
   "cell_type": "markdown",
   "id": "e9764665",
   "metadata": {},
   "source": [
    "### Common Versus Independent Risk\n",
    "\n",
    "*   Suppose type S firms are affected only by the strength of the economy, which has a 50-50 chance of being either strong or weak. If the economy is strong, type S stocks will earn a return of 40%; if the economy is weak, their return will be -20%.\n",
    "*\n",
    "   On the other hand, type I firms are affected only by idiosyncratic. Their returns are equally likely to be 35% or -25%, based on factors specific to each firm's local market.\n",
    "\n",
    "*   What is the volatility of the average return of ten type S firms?\n",
    "\n",
    "*   What is the volatility of the average return of ten type I firms?\n",
    "\n",
    "$ E [R_S] = 50\\% * 40\\% + 50\\% * -20\\% = 10\\% $\n",
    "\n",
    "$ SD(R_S) = \\sqrt{0.5 * (40\\% - 10\\%)^2 + 0.5 * (-20\\% - 10\\%)^2} = 30\\% $\n",
    "\n",
    "\n",
    "$ E [R_I] = 50\\% * 35\\% + 50\\% * -25\\% = 5\\% $\n",
    "\n",
    "$ SD(R_I) = \\sqrt{0.5 * (35\\% – 5\\%)^2 + 0.5 * (-25\\% – 5\\%)^2} = 30\\% $\n",
    "\n",
    "*Volatility of the average return of ten type I firms:*\n",
    "\n",
    "$ SE = \\frac{30\\%}{\\sqrt{10}} = 9.49\\% $\n",
    "    \n",
    "---"
   ]
  },
  {
   "cell_type": "markdown",
   "id": "61a3644f",
   "metadata": {},
   "source": [
    "### Measuring Systematic Risk\n",
    "*   Investors can eliminate the firm-specific risk in their investments by diversifying their portfolio.\n",
    "    *   When evaluating the risk of an investment, an investor will care about its systematic risk, which cannot be eliminated through diversification.\n",
    "    *   In exchange for bearing systematic risk, investors require a higher return over risk-free interest rate. This is called the risk premium.\n",
    "\n",
    "*   The Market Portfolio\n",
    "    *   A portfolio of all stocks and securities traded in the capital markets.\n",
    "\n",
    "*   Efficient Portfolio\n",
    "    *   A portfolio that fluctuates solely due to systematic risk.\n",
    "    *   Cannot be diversified further.\n",
    "        *   There is no way to reduce the risk of the portfolio without lowering its expected return.\n",
    "\n",
    "*   Sensitivity to Systematic Risk: Beta ($\\beta$)\n",
    "    *   Beta of a security is the sensitivity of that security's return to the return of the market portfolio\n",
    "\n",
    "---"
   ]
  },
  {
   "cell_type": "markdown",
   "id": "bb6aea53",
   "metadata": {},
   "source": [
    "### Measuring Systematic Risk\n",
    "\n",
    "*   Suppose the market portfolio tends to increase by 47% when the economy is strong and decline by 25% when the economy is weak.\n",
    "\n",
    "    *   What is the beta of a type S firm whose return is 40% on average when the economy is strong and -20% when the economy is weak?\n",
    "\n",
    "    *   What is the beta of a type I firm that bears only idiosyncratic, firm-specific risk?\n",
    "\n",
    "    Change in market return (Strong - Weak) = $47\\% - (-25\\%) = 72\\%$\n",
    "\n",
    "    Change in type S firm return (Strong - Weak) = $40\\% - (-20\\%) = 60\\%$\n",
    "    \n",
    "    $$ \\beta_S = \\frac{\\text{Change in S return}}{\\text{Change in market return}} = \\frac{60\\%}{72\\%} = 0.833 $$\n",
    "\n",
    "    $$ \\beta_I = 0 $$\n",
    "\n",
    "---"
   ]
  },
  {
   "cell_type": "markdown",
   "id": "798b294b",
   "metadata": {},
   "source": [
    "### Beta and the Cost of Capital\n",
    "*   For risky investments, the cost of capital corresponds to the risk-free interest rate, plus an appropriate risk premium.\n",
    "\n",
    "*   The size of the risk premium investors will require to make a risky investment depends upon their risk aversion.\n",
    "    \n",
    "    *   Risk-Aversion: Our personality-based degree of risk fear.\n",
    "        \n",
    "        *   A $1 lottery ticket that has a 1% chance of winning $100 and a 99% chance of being worthless.\n",
    "            *   Risk-neutral investor: Requires risk-premium. (Correction: Risk-neutral investor requires expected return >= risk-free rate, doesn't require a *premium* for risk itself, but requires compensation for expected value).\n",
    "            *   Risk-averse investor: Does not require risk-premium. (Correction: Risk-averse investor *requires* a risk-premium).\n",
    "            *   Risk-seeking investor: Wouldn't mind paying more than $1.\n",
    "    \n",
    "    *   Risk-aversion can be measured indirectly by looking at the risk premium investors' demand for investing in systematic risk.\n",
    "\n",
    "---"
   ]
  },
  {
   "cell_type": "markdown",
   "id": "7532323d",
   "metadata": {},
   "source": [
    "### Beta and the Cost of Capital\n",
    "\n",
    "*   The Market Risk Premium\n",
    "    $$ Market\\ Risk\\ Premium = E[R_{Mkt}] - r_f $$\n",
    "    *   The market interest rate reflects investors' patience and determines the time value of money.\n",
    "    \n",
    "    *   The market risk premium reflects investors' risk tolerance and determines the market price of risk in the economy.\n",
    "\n",
    "*   Estimating the Cost of Capital of an Investment from Its Beta\n",
    "    \n",
    "    $ E[R_i] = r_f + \\beta_i * Market\\ Risk\\ Premium $\n",
    "    $ E[R_i] = r_f + \\beta_i * (E[R_{Mkt}] – r_f) $\n",
    "    \n",
    "    *   Firms A and B have betas of 0.80 and 1.25, respectively. If the market risk premium is 5% and the risk-free interest rate is 4%, estimate the equity cost of capital for each of these firms.\n",
    "    \n",
    "    $ E[R_A] = r_f + \\beta_A * (E[R_{Mkt}] - r_f) = 4\\% + 0.80 * 5\\% = 8\\% $\n",
    "    \n",
    "    $ E[R_B] = r_f + \\beta_B * (E[R_{Mkt}] - r_f) = 4\\% + 1.25 * 5\\% = 10.25\\% $\n",
    "\n",
    "---"
   ]
  },
  {
   "cell_type": "markdown",
   "id": "6c66eddf",
   "metadata": {},
   "source": [
    "### Exercise 7.1\n",
    "\n",
    "An analyst is comparing the performance of two investment portfolios, \"Portfolio Alpha\" and \"Portfolio Gamma\". Using the following historical annual returns, calculate the average return, the variance, and the standard deviation for each portfolio. \n",
    "\n",
    "| Year | Portfolio Alpha | Portfolio Gamma | \n",
    "|:----:|:---------------:|:---------------:|\n",
    "| 1    | 15.0%           | 25.0%           |\n",
    "| 2    | 5.0%            | -15.0%          |\n",
    "| 3    | -10.0%          | 30.0%           |\n",
    "| 4    | 20.0%           | -5.0%           |\n",
    "| 5    | 10.0%           | 20.0%           |\n",
    "\n",
    "---"
   ]
  },
  {
   "cell_type": "markdown",
   "id": "40b77476",
   "metadata": {},
   "source": [
    "### Exercise 7.2\n",
    "\n",
    "An investor is evaluating the \"Innovate Growth Fund,\" which has reported the following annual returns over the last five years: 18.2%, -5.5%, 31.0%, 7.8%, and 14.5%.\n",
    "    \n",
    "*   What is the total cumulative return of the fund over the entire five-year period?\n",
    "    \n",
    "*   What is the compound average annual growth rate (CAGR) of the fund? This represents the constant annual rate needed to achieve the same cumulative return.\n",
    "\n",
    "---"
   ]
  },
  {
   "cell_type": "markdown",
   "id": "8b688908",
   "metadata": {},
   "source": [
    "### Exercise 7.3\n",
    "\n",
    "An investor is analyzing a mutual fund's performance. The fund's historical Net Asset Value (NAV) at the end of each year and the distributions paid out during the year are provided below. Calculate the arithmetic and geometric mean annual returns for this fund.\n",
    "\n",
    "| Year | NAV    | Distribution |\n",
    "|:------:|--------:|--------------:|\n",
    "| 0    | $50.00 | $0.00         |\n",
    "| 1    | $55.20 | $1.10         |\n",
    "| 2    | $54.00 | $1.15         |\n",
    "| 3    | $60.50 | $1.20         |\n",
    "| 4    | $72.00 | $1.25         |\n",
    "| 5    | $75.50 | $1.30         |\n",
    "\n",
    "---"
   ]
  },
  {
   "cell_type": "markdown",
   "id": "ecdf8d85",
   "metadata": {},
   "source": [
    "### Exercise 7.4\n",
    "\n",
    "A business analyst is reviewing the performance of \"HomeStyle Goods,\" a retail chain. The company's annual revenue growth over the last five years was as follows: 8%, 15%, -2%, 11%, and 19%.\n",
    "    \n",
    "*   What is the arithmetic average annual growth for the company over this five-year period?\n",
    "    \n",
    "*   What are the variance and the standard deviation of the company's annual growth rates over this period?\n",
    "\n",
    "---"
   ]
  },
  {
   "cell_type": "markdown",
   "id": "0515ab3d",
   "metadata": {},
   "source": [
    "### Exercise 7.5\n",
    "\n",
    "An analyst is evaluating two different investment funds: a \"Utilities Fund\" and a \"Growth-Tech Fund.\" The potential returns for these funds depend on the future state of the economy. Based on the following forecast, calculate the expected return and the standard deviation (risk) for each fund.\n",
    "\n",
    "| State of Economy | Probability of State | Utilities Fund Return | Growth-Tech Fund Return |\n",
    "|:----------------:|:--------------------:|:---------------------:|:-----------------------:|\n",
    "| Contraction      | 30%                  | 6.0%                  | -12.0%                  |\n",
    "| Moderate Growth  | 50%                  | 9.0%                  | 18.0%                   |\n",
    "| Strong Expansion | 20%                  | 11.0%                 | 32.0%                   |\n",
    "\n",
    "---"
   ]
  },
  {
   "cell_type": "markdown",
   "id": "5e66882a",
   "metadata": {},
   "source": [
    "### Exercise 7.6\n",
    "\n",
    "Consider an economy with two types of firms, Alpha and Beta. Alpha firms all move together due to common market-wide factors. Beta firms move independently of each other. For any firm of either type, there is a 70% probability that it will have a 20% return and a 30% probability that it will have a -15% return.\n",
    "\n",
    "*   What is the volatility (standard deviation) of a portfolio that consists of an equal investment in 25 firms of type Alpha?\n",
    "*   What is the volatility of a portfolio that consists of an equal investment in 25 firms of type Beta?\n",
    "\n",
    "\n",
    "---"
   ]
  },
  {
   "cell_type": "markdown",
   "id": "b4fd7f8c",
   "metadata": {},
   "source": [
    "### Exercise 2.7\n",
    "\n",
    "An investor with an initial capital of $10,000 is considering two strategies for a two-year investment horizon. The investor can use a risk-free asset with a guaranteed annual return of 4%. Alternatively, they can invest in a \"Momentum Stock,\" which is projected to return either 40% (in a boom) or -15% (in a bust) each year, with a 50% probability for each outcome.\n",
    "\n",
    "The two strategies are:\n",
    "\n",
    "1.  Invest the entire $10,000 for one year in the risk-free asset, then reinvest the full amount for the second year in the Momentum Stock.\n",
    "\n",
    "2.  Invest the entire $10,000 for both years in the Momentum Stock.\n",
    "\n",
    "*   Which strategy results in a higher expected final wealth?\n",
    "\n",
    "*   Which strategy has the greater standard deviation of final wealth, indicating higher risk?\n",
    "\n",
    "\n",
    "---"
   ]
  },
  {
   "cell_type": "markdown",
   "id": "2628dd7a",
   "metadata": {},
   "source": [
    "### Exercise 2.8\n",
    "\n",
    "*   An asset has a beta of 1.25. If the expected return on the market is 11% and the risk-free rate is 3.5%, what is the expected return for the asset?\n",
    "\n",
    "*   An asset has an expected return of 12.5% and the risk-free rate is 4%. If the market risk premium is 6%, what is the beta of the asset?\n",
    "\n",
    "*   An asset has an expected return of 14%, a beta of 1.50, and the risk-free rate is 5%. According to CAPM, what is the expected return on the market?\n",
    "\n",
    "*   An asset is priced to have an expected return of 9.5% and has a beta of 0.80. If the expected return on the market is 10%, what is the risk-free rate?\n",
    "\n",
    "\n",
    "---"
   ]
  },
  {
   "cell_type": "markdown",
   "id": "8828b1ff",
   "metadata": {},
   "source": [
    "### Exercise 2.9\n",
    "\n",
    "Assume the overall market portfolio has a 50% chance of returning 25% (a \"Bull\" market) and a 50% chance of returning -5% (a \"Bear\" market).\n",
    "\n",
    "*   Calculate the beta of Stock X, which is expected to return 35% in a Bull market and -15% in a Bear market.\n",
    "\n",
    "*   Calculate the beta of Stock Y, which is expected to return -10% in a Bull market and 20% in a Bear market. This type of stock is often called a \"defensive\" or \"counter-cyclical\" asset.\n",
    "\n",
    "*   Calculate the beta of Stock Z, which is expected to yield a constant 3% return regardless of the market's performance.\n",
    "\n",
    "\n",
    "---"
   ]
  },
  {
   "cell_type": "markdown",
   "id": "84c6a461",
   "metadata": {},
   "source": [
    "### What is next?\n",
    "\n",
    "*   Risk and Return\n",
    "    *   Optimal Portfolio Choice\n",
    "    *   The Capital Asset Pricing Model\n",
    "    *   Reading(s):\n",
    "        *   CF-B&D: Ch. 11\n",
    "\n",
    "---"
   ]
  }
 ],
 "metadata": {
  "kernelspec": {
   "display_name": "anaconda-toolbox",
   "language": "python",
   "name": "python3"
  },
  "language_info": {
   "codemirror_mode": {
    "name": "ipython",
    "version": 3
   },
   "file_extension": ".py",
   "mimetype": "text/x-python",
   "name": "python",
   "nbconvert_exporter": "python",
   "pygments_lexer": "ipython3",
   "version": "3.12.3"
  }
 },
 "nbformat": 4,
 "nbformat_minor": 5
}
