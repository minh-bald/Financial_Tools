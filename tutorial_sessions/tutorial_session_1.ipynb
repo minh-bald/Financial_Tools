{
 "cells": [
  {
   "cell_type": "markdown",
   "metadata": {},
   "source": [
    "<h2 style=\"text-align: center; font-family: Calibri, sans-serif; font-size: 36px;\">\n",
    "  Tutorial Session 1\n",
    "</h2>\n",
    "\n",
    "---"
   ]
  },
  {
   "cell_type": "markdown",
   "metadata": {},
   "source": [
    "## Financial Decision Making\n",
    "\n",
    "---"
   ]
  },
  {
   "cell_type": "markdown",
   "metadata": {},
   "source": [
    "### Question 1.1\n",
    "\n",
    "Consider an offer to trade 5 troy ounces (oz) of rhodium for 150 oz of palladium. Current competitive market prices are approximately £950 per oz for palladium and £5000 per oz for rhodium. \n",
    "\n",
    "* Based on current market prices, does this trade represent a positive net value? Explain using the Law of One Price or valuation principles.\n",
    "\n",
    "* Under what specific market price conditions (deviation from current prices) might this trade become unappealing?\n",
    "\n",
    "* What action might you consider if you strongly anticipated palladium prices falling to £900 per oz within the next day, assuming you could execute related transactions instantly?\n",
    "\n",
    "* How does your personal belief about the \"fairness\" of the current rhodium or palladium prices affect the decision to accept the trade based solely on market values?\n",
    "\n",
    "---"
   ]
  },
  {
   "cell_type": "markdown",
   "metadata": {},
   "source": [
    "### Question 1.2\n",
    "\n",
    "* Suppose the risk-free interest rate ($r$) is 5%.\n",
    "    * What are the discount factors for:\n",
    "        * one year?\n",
    "        * three years?\n",
    "        * six years?\n",
    "    * What are the interest rate factors (future value factors) for:\n",
    "        * two years?\n",
    "        * four years?\n",
    "        * seven years?\n",
    "\n",
    "---"
   ]
  },
  {
   "cell_type": "markdown",
   "metadata": {},
   "source": [
    "### Question 1.3\n",
    "\n",
    "Consider a risk-free security issued by the Beta Institute that promises to pay investors the following cash flows:\n",
    "\n",
    " * $50 exactly one year from today\n",
    "   \n",
    " * $70 exactly two years from today\n",
    "\n",
    " * $120 exactly three years from today\n",
    "\n",
    "Suppose the current annualized risk-free interest rates for these maturities are as follows:\n",
    "    \n",
    " * One-year risk-free rate ($r_1$): 4.0%\n",
    " * Two-year risk-free rate ($r_2$): 4.5%\n",
    " * Three-year risk-free rate ($r_3$): 5.0%\n",
    "\n",
    "**What is the theoretical no-arbitrage price of this security today? Describe the calculation required.**\n",
    "\n",
    "**If this security is currently trading in the market for a price of $215, clearly describe the sequence of transactions you would need to undertake today and in the future to lock in a risk-free arbitrage profit. Specify the amount of profit you would realize today.**\n",
    "\n",
    "---"
   ]
  },
  {
   "cell_type": "markdown",
   "metadata": {},
   "source": [
    "## Time, Money, and Interest Rates\n",
    "\n",
    "---"
   ]
  },
  {
   "cell_type": "markdown",
   "metadata": {},
   "source": [
    "### Question 2.1\n",
    "For each of the following scenarios, compute the present value:\n",
    "\n",
    "| Present Value | Years | Interest Rate | Future Value  |\n",
    "|---------------|-------|---------------|---------------|\n",
    "|               | 7     | 6\\%           | \\$14,235      |\n",
    "|               | 11    | 12\\%          | \\$52,148      |\n",
    "|               | 15    | 9\\%           | \\$812,730     |\n",
    "|               | 22    | 14\\%          | \\$614,390     |\n",
    "\n",
    "---"
   ]
  },
  {
   "cell_type": "markdown",
   "metadata": {},
   "source": [
    "### Question 2.2\n",
    "* The Infinity Wealth Management Company is trying to sell you an investment policy that will pay you and your heirs \\$18,000 per year forever.     \n",
    "    - If the required return on this investment is 6.3\\%, how much will you pay for the policy?\n",
    "    - If you are told that the policy costs $350,000. At what interest rate would this be a fair deal?\n",
    "\n",
    "---"
   ]
  },
  {
   "cell_type": "markdown",
   "metadata": {},
   "source": [
    "### Question 2.3\n",
    "Investment A offers to pay you $\\$4,500$ per year for 12 years, whereas Investment B offers to pay you $\\$7,200$ per year for 6 years. Which investment would you choose under the following interest rate scenarios:\n",
    "\n",
    "- 6 percent  \n",
    "- 25 percent\n",
    "---"
   ]
  },
  {
   "cell_type": "markdown",
   "metadata": {},
   "source": [
    "### Question 2.4\n",
    "\n",
    "* You want to buy a house in 10 years and estimate a house of your liking will cost $200,000. \n",
    "    * Assume that you are able to earn a return of 8% on these savings. \n",
    "    * What is the amount you need to save each year?\n",
    "\n",
    "---"
   ]
  },
  {
   "cell_type": "markdown",
   "metadata": {},
   "source": [
    "### Question 2.5\n",
    "\n",
    "* Suppose we have a \\$250,000 commercial mortgage with a 12\\% interest rate to be paid monthly over 15 years. \n",
    "    \n",
    "    * What should the monthly payments be?\n",
    "    \n",
    "    * Now, suppose that the borrower intends to fully pay the remaining balance on the loan after the 60th monthly payment. What will be the required amount for this payment?\n",
    "\n",
    "    * If the borrower intends to fully amortize the loan at the end of 15th year but wants to make balloon payments of $50,000 at the end of 5th, and 10th years, what should the monthly payments be?\n",
    "\n",
    "    * Suppose that the borrower firm wants to explore a 10-year mortgage with two equal balloon payments at the end of 3rd and 7th years.\n",
    "        * Additionally, the financial manager of the firm makes it clear that the maximum amount for monthly payments should be $3,250. \n",
    "        * What is the minimum amount of the balloon payments needed for fully amortizing the loan at the end of 10th year?\n",
    "\n",
    "---"
   ]
  },
  {
   "cell_type": "markdown",
   "metadata": {},
   "source": [
    "### Question 2.5: Solution\n",
    "\n",
    "Let $i = 0.12/12 = 0.01$, $N_{15} = 15\\times12 = 180$, $N_{10} = 10\\times12 = 120$.\n",
    "\n",
    "1. **Level monthly payment on 15-year loan**  \n",
    "$$\n",
    "R = \\frac{P\\,i}{1 - (1+i)^{-N_{15}}}\n",
    "  = \\frac{250\\,000 \\times 0.01}{1 - 1.01^{-180}}\n",
    "  \\approx 3000.42.\n",
    "$$\n",
    "\n",
    "2. **Outstanding balance after 60 payments**  \n",
    "$$\n",
    "B_{60} \n",
    "= R\\,\\frac{1 - (1+i)^{-(N_{15}-60)}}{i}\n",
    "= 3000.42 \\;\\frac{1 - 1.01^{-120}}{0.01}\n",
    "\\approx 209130.85.\n",
    "$$\n",
    "\n",
    "3. **Monthly payment with \\$50 000 balloons at $t=60$ and $t=120$**  \n",
    "Solve  \n",
    "$$\n",
    "250\\,000 \n",
    "= R\\,\\frac{1 - (1+i)^{-N_{15}}}{i}\n",
    "  + 50\\,000\\bigl(1.01^{-60} + 1.01^{-120}\\bigr),\n",
    "$$  \n",
    "so  \n",
    "$$\n",
    "R = \\frac{250\\,000 - 50\\,000\\,(1.01^{-60} + 1.01^{-120})}\n",
    "         {\\bigl(1 - 1.01^{-180}\\bigr)/0.01}\n",
    "    \\approx 2488.28.\n",
    "$$\n",
    "\n",
    "4. **Minimum equal balloons $B$ at $t=36$ and $t=84$ for a 10-year loan with $R=3250$**  \n",
    "Solve  \n",
    "$$\n",
    "250\\,000 \n",
    "= 3250\\,\\frac{1 - (1+i)^{-N_{10}}}{i}\n",
    "  + B\\bigl(1.01^{-36} + 1.01^{-84}\\bigr),\n",
    "$$  \n",
    "thus  \n",
    "$$\n",
    "B = \\frac{250\\,000 - 3250\\,\\bigl(1 - 1.01^{-120}\\bigr)/0.01}\n",
    "         {1.01^{-36} + 1.01^{-84}}\n",
    "    \\approx 20728.07.\n",
    "$$\n",
    "\n",
    "---"
   ]
  },
  {
   "cell_type": "markdown",
   "metadata": {},
   "source": [
    "### Question 2.6\n",
    "* You have just purchased a new house. To finance the purchase, you've arranged for a 30-year mortgage for 80 percent of the $\\$600,000$ purchase price. The monthly payment on this loan will be $\\$2,800$.\n",
    "  - What is the APR on this loan?\n",
    "  - The EAR?\n",
    "\n",
    "---"
   ]
  },
  {
   "cell_type": "markdown",
   "metadata": {},
   "source": [
    "### Question 2.7\n",
    "Alex Roberts owns a chain of artisanal bakery cafes in downtown San Francisco. He charges his customers an annual membership fee of $\\$350$ and currently has a loyal customer base of 600 members. Alex plans to raise the annual fee by 5% every year and expects his membership to grow at a constant rate of 4% per year over the next five years. His business incurs operating expenses of $\\$100,000$ per year, and these costs are expected to increase at the inflation rate of 3% annually. At the end of five years, Alex intends to invest $\\$600,000$ in a new boutique hotel venture and then close his cafes to retire and travel the world. \n",
    "\n",
    "After spending $\\$600,000$ on his new venture, the remaining savings are invested in an account that earns an 8% annual return. Alex plans to fund his world travels over a 20-year retirement, withdrawing an equal amount at the beginning of each year, and depleting the account completely by the end of the 20 years.\n",
    "\n",
    "What is the annual amount that Alex can spend during his 20-year retirement (in today’s dollars), and what is the corresponding nominal amount of his final withdrawal, assuming the annual withdrawals are indexed to inflation?\n",
    "\n",
    "---\n"
   ]
  },
  {
   "cell_type": "markdown",
   "metadata": {},
   "source": [
    "## Investment Decison Rules\n",
    "\n",
    "---"
   ]
  },
  {
   "cell_type": "markdown",
   "metadata": {},
   "source": [
    "### Question 3.1\n",
    "*   Mechano Inc. is considering a major factory expansion. This expansion is projected to generate additional net cash inflows of $\\$310,000$ for the firm during the first year after completion. These cash flows are expected to grow steadily at a rate of **5 percent per year indefinitely**. The expansion requires an upfront investment of $3,800,000.\n",
    "    *   If Mechano Inc. requires a return of **14 percent** on such capital projects, should the factory expansion be undertaken? (Calculate the NPV).\n",
    "    *   Mechano Inc.'s management is concerned about the long-term growth forecast. At what constant perpetual growth rate would this expansion project just break even (NPV = 0), assuming the company still requires a **14 percent** return on investment?\n",
    "\n",
    "---"
   ]
  },
  {
   "cell_type": "markdown",
   "metadata": {},
   "source": [
    "### Question 3.2\n",
    "\n",
    "*   A real estate development firm is choosing between two mutually exclusive downtown revitalization projects. Both require the same initial investment of **\\$15 million**.\n",
    "    *   Project **High Rise (HR)** will generate net rental income of **\\$2.5 million** per year (starting at the end of the first year) in perpetuity.\n",
    "    *   Project **Mixed Use (MU)** will generate **\\$1.8 million** at the end of the first year, and this income stream is expected to grow at **3%** per year indefinitely after that.\n",
    "    *   Which project has the higher IRR?\n",
    "    *   Which project has the higher NPV when the firm's cost of capital is **8%**?\n",
    "    *   In this situation, for what range of the cost of capital would choosing the project with the higher IRR lead to the correct decision (i.e., selecting the project with the higher NPV)?\n",
    "\n",
    "---"
   ]
  },
  {
   "cell_type": "markdown",
   "metadata": {},
   "source": [
    "### Question 3.3\n",
    "\n",
    "*   Your renewable energy company is considering developing a new geothermal power plant. The plant construction and setup will cost **\\$250 million** immediately (Year 0). Once operational, the plant is expected to generate **\\$35 million** in net cash flow per year for the next **12 years**. After 12 years, the plant will require ongoing monitoring and environmental compliance activities. These are expected to cost **\\$2.5 million per year** in perpetuity, starting in Year 13.\n",
    "    *   What does the IRR rule indicate about whether you should accept this opportunity? \n",
    "    *   If the cost of capital for this project is **8.5%**, what does the NPV rule say about accepting the project?\n",
    "\n",
    "---"
   ]
  },
  {
   "cell_type": "markdown",
   "metadata": {},
   "source": [
    "### Question 3.4\n",
    "\n",
    "*   Your company typically spends **\\$750,000 per year** on routine IT system upgrades and software licensing renewals. Due to budget constraints, the firm is considering skipping these expenditures for the next **three years** (Years 1, 2, and 3). If it does so, it anticipates a major system failure requiring replacement and data recovery costing **\\$2.8 million** at the end of Year 4.\n",
    "    *   What is the IRR associated with the decision to forgo the IT upgrades?\n",
    "    *   Does the standard IRR decision rule work reliably for this specific decision? Why or why not?\n",
    "    *   For what range of costs of capital would forgoing the upgrades appear to be a financially beneficial decision (i.e., have a positive NPV)?\n",
    "\n",
    "---"
   ]
  },
  {
   "cell_type": "markdown",
   "metadata": {},
   "source": [
    "### Question 3.5\n",
    "\n",
    "*   \"App Wizards Inc.\" has designed a new productivity app. They can launch the app either with a basic feature set or as a premium version with enhanced capabilities, but launching both is not feasible. Consider the following estimated cash flows for these mutually exclusive options. Assume the appropriate discount rate for both projects is **12 percent**.\n",
    "\n",
    "    | Year | Basic App CF (\\$k) | Premium App CF (\\$k) |\n",
    "    | :----: | -----------------: | -------------------: |\n",
    "    | 0    | -500             | -1,200             |\n",
    "    | 1    | 350               | 800                 |\n",
    "    | 2    | 250               | 600                 |\n",
    "    | 3    | 100               | 300                 |\n",
    "\n",
    "*   Based *only* on the Payback Period rule, which app version should be launched?\n",
    "*   Based on the NPV rule, which app version should be chosen?\n",
    "*   Based *only* on the IRR rule, which app version should be chosen?\n",
    "*   Using the Incremental IRR method, which app version should be chosen?\n",
    "\n",
    "---"
   ]
  },
  {
   "cell_type": "markdown",
   "metadata": {},
   "source": [
    "### Question 3.6\n",
    "\n",
    "*   Catalyst Marketing, a digital agency, has a daily budget of $1,200 to allocate across different online advertising campaigns for a client. Each campaign type has a different estimated NPV per \"unit\" of spend (e.g., per 1000 impressions or per click package), a cost per unit, and a maximum number of effective units the agency can purchase per day.\n",
    "\n",
    "    | Campaign Type      | Est. NPV per Unit | Cost per Unit | Max. Units per Day |\n",
    "    | ------------------ | -----------------: | -------------: | ------------------: |\n",
    "    | Social Media Ads   | \\$2                | \\$30           | 20                 |\n",
    "    | Search Engine Ads  | \\$12               | \\$25           | 15                 |\n",
    "    | Video Ads          | \\$8                | \\$40           | 10                 |\n",
    "    | Influencer Collabs | \\$30               | \\$100          | 6                  |\n",
    "\n",
    "    *   What combination of advertising units should Catalyst Marketing purchase each day to maximize the total estimated NPV within the $1,200 budget?\n",
    "\n",
    "---"
   ]
  },
  {
   "cell_type": "markdown",
   "metadata": {},
   "source": [
    "## Capital Budgeting\n",
    "\n",
    "---"
   ]
  },
  {
   "cell_type": "markdown",
   "metadata": {},
   "source": [
    "### Question 4.1\n",
    "\n",
    "TechNova Ltd. is evaluating the purchase of an automated workstation priced at $\\$380,000$ with a useful life of 5 years. The system will be depreciated on a straight-line basis over five years, and its salvage value at the end of the period is expected to be $\\$40,000$.\n",
    "\n",
    "By adopting this technology, the company will be able to eliminate three manual quality control position, saving a total of $135,000 per year in salaries. \n",
    "\n",
    "Additionally, the system will immediately reduce the company's required net working capital by $60,000. This NWC will need to be reinstated when the equipment is sold after 5 years.\n",
    "\n",
    "The firm's corporate tax rate is 25%, and the required rate of return is 11%.\n",
    "\n",
    "Should TechNova proceed with the investment?\n",
    "\n",
    "---"
   ]
  },
  {
   "cell_type": "markdown",
   "metadata": {},
   "source": [
    "### Question 4.2\n",
    "\n",
    "Evergreen Electronics is evaluating a new automated assembly line. \n",
    "* The equipment costs $\\$4,500,000$ up front, and requires an immediate $\\$200,000$ increase in net working capital. \n",
    "* Sales are expected to be \\$2,600,000 per year for four years (after which the market will end). Operating costs are 30 % of sales. \n",
    "* The equipment will be straight‐line depreciated to zero over four years. \n",
    "* The corporate tax rate is 30 %, and the required return is 12 %. \n",
    "* Should Evergreen proceed wit the investment?\n",
    "\n",
    "---"
   ]
  },
  {
   "cell_type": "markdown",
   "metadata": {},
   "source": [
    "### Question 4.3\n",
    "\n",
    "PrintCo manufactures 120 000 printers per year (steady state).  Each printer needs one custom circuit board.  Currently they buy boards at $\\$4.00$ each.  The plant manager proposes to produce boards in‑house at $\\$2.50$ apiece.\n",
    "\n",
    "| Parameter                            | Value                  |\n",
    "|:-------------------------------------|:-----------------------|\n",
    "| Annual volume                        | 120 000 boards         |\n",
    "| Purchase price (outsourced)          | \\$4.00 / board         |\n",
    "| In‑house variable cost               | \\$2.50 / board         |\n",
    "| Capital cost of new machinery        | \\$300 000              |\n",
    "| Economic life of machinery           | 5 years                |\n",
    "| Depreciation                         | Straight‑line to zero  |\n",
    "| Additional working capital (NWC)     | \\$40 000 (recovered in Year 5) |\n",
    "| Salvage value at end of Year 5       | \\$20 000               |\n",
    "| Tax rate                             | 25 %                   |\n",
    "| WACC                                 | 10 %                   |\n",
    "\n",
    "What is the net present value (NPV) of deciding to manufacture the circuit boards in‑house rather than buying them from the supplier?\n",
    "\n",
    "--- \n"
   ]
  },
  {
   "cell_type": "markdown",
   "metadata": {},
   "source": [
    "### Question 4.4\n",
    "\n",
    "Two recent engineering graduates, Alex and Ben, with limited start-up funds, decided to produce artisanal coffee makers. They estimate selling 7,000 units in the first year. Sales are projected to grow by 10 percent annually for the following five years. \n",
    "\n",
    "To begin operations, they will need an initial investment of $\\$55,000$ in net working capital. Annual fixed costs are estimated at $\\$95,000$, and variable production costs are $\\$25$ per coffee maker. Each unit will be sold for $\\$65$.\n",
    "\n",
    "The manufacturing equipment required will cost $220,000. This equipment will be depreciated using the straight-line method over its six-year useful life, with no expected salvage value at the end.\n",
    "\n",
    "The applicable corporate tax rate is 30 percent, and the project's required rate of return is 15 percent.\n",
    "\n",
    "Calculate the Net Present Value (NPV) of this venture.\n",
    "\n",
    "---"
   ]
  },
  {
   "cell_type": "markdown",
   "metadata": {},
   "source": [
    "## Bond Valuation\n",
    "\n",
    "---"
   ]
  },
  {
   "cell_type": "markdown",
   "metadata": {},
   "source": [
    "### Question 5.1\n",
    "\n",
    "BlueChip Systems has 7.5 percent coupon bonds outstanding with 12 years left until maturity. The bonds make semiannual payments and are currently priced at 98 percent of their face value. Calculate the current yield, the yield to maturity (YTM), and the effective annual yield (EAY) for these bonds.\n",
    "\n",
    "---"
   ]
  },
  {
   "cell_type": "markdown",
   "metadata": {},
   "source": [
    "### Question 5.2\n",
    "\n",
    "* The Yield to Maturity (YTM) represents the total return anticipated on a bond if the bond is held until it matures. However, if market interest rates fluctuate and you sell the bond prior to maturity, the actual return achieved is termed the Holding Period Yield (HPY).\n",
    "    * Imagine today you purchase an 8-year bond for $\\$1,050$. This bond pays an annual coupon of 6.2 percent (assuming a face value of $\\$1,000$). What is the initial YTM expected on this investment?\n",
    "    * Suppose that three years after your purchase, the prevailing YTM for similar bonds has risen by 0.75 percent. You decide to sell your bond at this point. What market price can you expect to receive for your bond? Calculate the annualized HPY for your investment over the three years. How does this HPY compare to the YTM calculated when you initially bought the bond, and what causes the difference?\n",
    "\n",
    "---"
   ]
  },
  {
   "cell_type": "markdown",
   "metadata": {},
   "source": [
    "### Question 5.3\n",
    "\n",
    "Suppose there are four risk-free financial instruments available with the following market prices and guaranteed future payments:\n",
    "\n",
    "| Instrument | Current Price | Payment in Year 1 | Payment in Year 2 | Payment in Year 3 |\n",
    "|:------------:|---------------:|-------------------:|-------------------:|-------------------:|\n",
    "| X          | 950.00       | 1000              | 0                 | 0                 |\n",
    "| Y          | 890.00       | 0                 | 1000              | 0                 |\n",
    "| Z          | 985.00       | 50                | 50                | 1050              |\n",
    "| W          | 840.00       | 0                 | 0                 | 1000              |\n",
    "\n",
    "Based on this information, does an arbitrage opportunity exist?\n",
    "* If yes, describe the strategy to capture a risk-free profit.\n",
    "* If no, explain why the prices are consistent and preclude arbitrage.\n",
    "\n",
    "---"
   ]
  },
  {
   "cell_type": "markdown",
   "metadata": {},
   "source": [
    "### Question 5.4\n",
    "\n",
    "Apex Industries has issued zero-coupon corporate bonds with a seven-year maturity. \n",
    "\n",
    "- Investors estimate a 20% probability that Apex will default on these bonds. \n",
    "\n",
    "- If a default occurs, investors anticipate recovering only 50 cents per dollar of the face value. \n",
    "\n",
    "- If the required expected return for investing in these bonds is 7%, what would be the market price and the yield to maturity for these bonds?\n",
    "\n",
    "---"
   ]
  },
  {
   "cell_type": "markdown",
   "metadata": {},
   "source": [
    "### Question 5.5\n",
    "\n",
    "Redwood Enterprises leases sustainable forestry equipment in the Pacific Northwest. It has just issued a three-year, zero-coupon corporate bond at a price of $\\$85$. You have purchased this bond and plan to hold it until it matures. Assume the face value is $\\$100$.\n",
    "\n",
    "a. Calculate the yield to maturity (YTM) of this bond.\n",
    "\n",
    "b. What is the expected annual return on your investment if there is zero probability of default?\n",
    "\n",
    "c. What is your expected annual return if default is certain (100% probability), and you anticipate recovering 80% of the face value in bankruptcy?\n",
    "\n",
    "d. What is your expected annual return if the probability of default occurring before maturity is 40%, and if default occurs, you will recover 80% of the face value?\n",
    "\n",
    "e. Considering your answers for parts (b) through (d), comment on the relationship between the expected return and the three-year, risk-free interest rate in each scenario.\n",
    "\n",
    "---"
   ]
  },
  {
   "cell_type": "markdown",
   "metadata": {},
   "source": [
    "## Stock Valuation\n",
    "\n",
    "---"
   ]
  },
  {
   "cell_type": "markdown",
   "metadata": {},
   "source": [
    "### Question 6.1\n",
    "\n",
    "AGE Corporation will pay an annual dividend of $\\$1.10$ one year from now. Analysts expect this dividend to grow at 10% per year thereafter until the fourth year. After then, growth will level off at 3% per year indefinitely. According to the dividend-discount model, what is the value of a share of AGE Corp. stock if the firm's equity cost of capital ($r_{E}$) is 8%?\n",
    "\n",
    "---"
   ]
  },
  {
   "cell_type": "markdown",
   "metadata": {},
   "source": [
    "### Question 6.2\n",
    "\n",
    "AGE Corp intends to pay a total payout of $\\$3.50$ per share to its shareholders next year. The company anticipates an earnings growth rate of 4.2% per year indefinitely, and its equity cost of capital ($r_E$) is 9.5%.\n",
    "\n",
    "* **Scenario 1: All Payouts as Dividends**\n",
    "    \n",
    "    Assume AGE Corp pays the entire $\\$3.50$ as a dividend ($D_1 = \\$3.50$). If its dividend payout rate and expected growth rate remain constant, and AGE Corp does not issue or repurchase shares, estimate its share price ($P_0$).\n",
    "\n",
    "* **Scenario 2: Dividends and Repurchases**\n",
    "    \n",
    "    Suppose AGE Corp decides to pay a dividend of $\\$1.00$ per share ($D_1' = \\$1.00$) this year and use the remaining $\\$2.50$ per share ($\\$3.50 - \\$1.00$) to repurchase shares. If AGE Corp's total payout rate remains constant, estimate its share price.\n",
    "\n",
    "* **Growth Rates with Repurchases**\n",
    "    \n",
    "    If AGE Corp maintains the payout split from Scenario 2 ($\\$1.00$ dividend, $\\$2.50$ repurchase per initial share) and the same total payout rate, at what rates are its dividends per share (DPS), earnings per share (EPS), and share price expected to grow?\n",
    "\n",
    "---"
   ]
  },
  {
   "cell_type": "markdown",
   "metadata": {},
   "source": [
    "### Question 6.3\n",
    "\n",
    "Consider LAC Corp and FB Industries, both of which reported total earnings of $\\$500,000$ this past year. Without undertaking any new projects, both firms are expected to continue generating earnings of $\\$500,000$ per year in perpetuity. Assume that all earnings are paid out to shareholders as dividends and that investors require an equity return ($r_E$) of 12 percent for both firms.\n",
    "\n",
    "* What is the current Price-to-Earnings (P/E) ratio for each company?\n",
    "* LAC Corp has identified a new project expected to generate additional earnings of $\\$80,000$ each year in perpetuity, starting next year. Calculate the new P/E ratio of the company based on this information.\n",
    "* FB Industries has a different new project expected to increase earnings by $\\$150,000$ per year in perpetuity, starting next year. Calculate the new P/E ratio of this firm.\n",
    "\n",
    "---"
   ]
  },
  {
   "cell_type": "markdown",
   "metadata": {},
   "source": [
    "### Question 6.4\n",
    "\n",
    "DFB, Inc., expects earnings at the end of this year of $\\$4.19$ per share, and it plans to pay a $\\$2.43$ dividend at that time. DFB will retain $\\$1.76$ per share of its earnings to reinvest in new projects with an expected return of 15.1% per year. Suppose DFB will maintain the same dividend payout rate, retention rate, and return on new investments in the future and will not change its number of outstanding shares. Assume a required rate of return of 12%.\n",
    "\n",
    "*   What growth rate of earnings would you forecast for DFB?\n",
    "\n",
    "*   Suppose DFB instead paid a dividend of $\\$3.43$ per share at the end of this year and retained only $\\$0.76$ per share in earnings. If DFB maintains this higher payout rate in the future, what stock price would you estimate now? Should DFB raise its dividend?\n",
    "\n",
    "* Should DFB raise its dividend? \n",
    "\n",
    "---"
   ]
  },
  {
   "cell_type": "markdown",
   "metadata": {},
   "source": [
    "### Question 6.5\n",
    "\n",
    "Gamma Analytics, an all-equity financed firm, reported Earnings Per Share (EPS) of $\\$5.00$ for the year 2024. The company plans a temporary reduction in payouts. It has just paid the 2024 dividend of $\\$1.80$ per share. It plans to pay the same dividend amount for 2025. Starting in 2026, Gamma Analytics expects its growth opportunities to stabilize and will target a 40% dividend payout ratio and a 25% share repurchase ratio, resulting in a 65% total payout ratio. The firm expects its existing operations to continue generating the current level of EPS ($\\$5.00$) indefinitely, with all future growth coming from new investments.\n",
    "\n",
    "Assume the return on new investments (RONI) is 12%, and Gamma Analytics' equity cost of capital ($r_E$) is 11%. Estimate Gamma Analytics' share price at the end of 2024 (immediately after the 2024 dividend has been paid).\n",
    "\n",
    "---"
   ]
  }
 ],
 "metadata": {
  "kernelspec": {
   "display_name": "anaconda-toolbox",
   "language": "python",
   "name": "python3"
  },
  "language_info": {
   "codemirror_mode": {
    "name": "ipython",
    "version": 3
   },
   "file_extension": ".py",
   "mimetype": "text/x-python",
   "name": "python",
   "nbconvert_exporter": "python",
   "pygments_lexer": "ipython3",
   "version": "3.12.3"
  }
 },
 "nbformat": 4,
 "nbformat_minor": 4
}
